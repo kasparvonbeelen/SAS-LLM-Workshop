{
 "cells": [
  {
   "cell_type": "markdown",
   "id": "d50f7f68",
   "metadata": {},
   "source": [
    "# Pocking at Ever Larger Language Models\n",
    "### An introduction for (digital) humanists\n",
    "\n",
    "## Part 1: Exploring N-gram language models\n",
    "\n",
    "In this notebook:\n",
    "- We explain some of the basic terminology and principles of language models\n",
    "- Build a simple language model that generates endless (and senseless!) Brexit discourse. Yay!\n",
    "\n",
    "In creating this notebook, I leaned heavily on:\n",
    "- the excellent Programming Historian lesson on [Generating Text with GPT-2](https://programminghistorian.org/assets/interrogating-national-narrative-gpt/)\n",
    "- The [Chapter](https://web.stanford.edu/~jurafsky/slp3/3.pdf) on N-Gram Language Models in the fabulous handbook by Dan Jurafsky and James H. Martin \"Speech and Language Processing\" (3rd ed. draft). Available online [here](https://web.stanford.edu/~jurafsky/slp3/).\n"
   ]
  },
  {
   "cell_type": "markdown",
   "id": "97a9a90d",
   "metadata": {},
   "source": [
    "# What are N-Grams?\n",
    "\n",
    "N-grams are sequences of *n* words.\n",
    "\n",
    "The sentence “predicting the future is impossible”\n",
    "- Unigrams: `predicting`,`the `, `future`, `is`, `impossible`\n",
    "- Bigrams:  `predicting the`,`the future`, `future is`, `is impossible`\n",
    "- Trigrams: `predicting the future`, `the future is`, `future is impossible`\n"
   ]
  },
  {
   "cell_type": "markdown",
   "id": "4570872a",
   "metadata": {},
   "source": [
    "# What are language models\n",
    "## What is likely to come next?\n",
    "\n",
    "> “[Language models] assign a probability* to each possible next word. (Jurafsky & Martin)”\n",
    "\n",
    "In other words, language models guess what word comes next.\n",
    "\n",
    "Given the sentence **“Predicting the future is hard, but not …”**\n",
    "\n",
    "- P(“impossible” | sentence) is greater than P(“aardvark” | sentence)\n",
    "\n",
    "\n",
    "```Read P(“impossible” | sentence) as the probability of observing the token “impossible” given the sequence “Predicting the future is hard, but not ...\"```\n",
    "\n",
    "\n",
    "```Probabilities are values between 0 and 1 that sum up to 1.```"
   ]
  },
  {
   "cell_type": "markdown",
   "id": "bc1ea39c",
   "metadata": {},
   "source": [
    "**Peaking ahead**: if you can predict what comes next in a text sequence you learn quite a lot about language user and the world in general.\n",
    "\n",
    "- Paris is located in [BLANK]\n",
    "- He was late. I was really angry and told [BLANK]"
   ]
  },
  {
   "cell_type": "markdown",
   "id": "31de1892",
   "metadata": {},
   "source": [
    "## How probable is a text?\n",
    "\n",
    "> “[Language models] assign a probability to an entire sequence. (Jurafsky & Martin)”\n",
    "\n",
    "**P(predicting the future is hard, but not impossible)**\n",
    "\n",
    "Is greater than\n",
    "\n",
    "**P(predicting the future is hard, but not aardvark)**\n"
   ]
  },
  {
   "cell_type": "markdown",
   "id": "3b8107d0",
   "metadata": {},
   "source": [
    "### How to compute probability of a text?"
   ]
  },
  {
   "cell_type": "markdown",
   "id": "507da2d6",
   "metadata": {},
   "source": [
    "**P(predicting the future is impossible)**\n",
    "\n",
    "Is equal to:\n",
    "\n",
    "`P(predicting)` * `P(the | predicting)` * `P(future | predicting the)` * `P(is | predicting the future)` * `P(impossible | predicting the future is)` etc."
   ]
  },
  {
   "cell_type": "markdown",
   "id": "8bb20d43",
   "metadata": {},
   "source": [
    "# N-Gram Language Models\n",
    "\n",
    "How to compute ```P(impossible | predicting the future is)```? with a **trigram** language model (n=3)."
   ]
  },
  {
   "cell_type": "markdown",
   "id": "c967d8b4",
   "metadata": {},
   "source": [
    "- When predicting the next word we only take into account the past two words (Markov Assumption for trigram language model)\n",
    "    i.e. instead of ``P(impossible | predicting the future is)`` we use ``P(impossible | future is)``\n",
    "   \n",
    "- Wow, this is crazy! Imagine you have to make a speech, but you can only remember the last two words.\n",
    "![forgot](https://media.giphy.com/media/dSdvJvsJQIXWsgP6cO/giphy.gif)"
   ]
  },
  {
   "cell_type": "markdown",
   "id": "cc25184b",
   "metadata": {},
   "source": [
    "Ok, let's assume the Markov assumption makes sense. How to compute ```P(impossible | future is)```\n",
    "\n",
    "You need \n",
    "- [x] lots of data\n",
    "- [x] an N-gram counter\n",
    "- [x] a calculator"
   ]
  },
  {
   "cell_type": "markdown",
   "id": "db6e8366",
   "metadata": {},
   "source": [
    "> The language modelling task: **P(w | h)** (predict the probability of word w given a history h)\n",
    "\n",
    "We can estimate the probability from counts:\n",
    "\n",
    "- P(impossible | predicting the future is) ≈ P(impossible | future is) (Markov assumption)\n",
    "- P(impossible | future is) = C(future is impossible) / C(future is) (Likelihood estimation)\n",
    "\n",
    "Important\n",
    "- By computing the probabilities we **train** the N-gram language model on the actual text.\n",
    "- When we repeat this computation for **every word** in our vocabulary, then get a probability distribution over the next word, i.e.\n",
    "\n",
    "P(impossible | future is) = .05\n",
    "\n",
    "P(not | future is) = .07\n",
    "...\n",
    "\n",
    "P(flower | future is) = .00001\n"
   ]
  },
  {
   "cell_type": "markdown",
   "id": "6eee81af",
   "metadata": {},
   "source": [
    "**Please notice**: Having a higher order language model (i.e. n > 3) will generally create a better model, but it makes the computation more complex. Language is highly variable, and many sequences will never be observed (i.e. the denominator equals zero). Also, you need to keep track of more counts!\n",
    "\n",
    "There are various solutions to this, which we will not discuss here (but you can have a look at this [Chapter](https://web.stanford.edu/~jurafsky/slp3/3.pdf))."
   ]
  },
  {
   "cell_type": "markdown",
   "id": "f81c926a",
   "metadata": {},
   "source": [
    "## Quick recap\n",
    "- Language modelling is the task of predicting the next word *w* given a history *h* (i.e. P(w | h))\n",
    "- At each step, we can compute the probability over all the following words\n",
    "- We can measure the **performance** of a model by evaluating how well a model can predict the next word (it will assign higher probabilities to actual texts)"
   ]
  },
  {
   "cell_type": "markdown",
   "id": "af9ed776",
   "metadata": {},
   "source": [
    "# Practical: Generating Brexit Prose with a Bigram Language Model\n",
    "\n",
    "In the sections below, we build a simple n-gram model to generate text.\n",
    "\n",
    "- Given an input (or prompt), a language model will output a probability over the next words\n",
    "- We will sample from this distribution to select the next word and repeat the process (ad infinitum if you like;-))\n",
    "\n",
    "Even though the machinery has become way more complicated, these components are still the main building blocks behind generative technologies such as ChatGPT."
   ]
  },
  {
   "cell_type": "markdown",
   "id": "cd9047ad",
   "metadata": {},
   "source": [
    "## Install Packages\n",
    "\n",
    "We work in Colab Notebooks, and before we start playing with code we need to install some packages.\n",
    "\n",
    "Below you see a code cell. \n",
    "\n",
    "**Action**: Remove the # at the start of each line and run the cell."
   ]
  },
  {
   "cell_type": "code",
   "execution_count": 478,
   "id": "8fa5022a",
   "metadata": {},
   "outputs": [],
   "source": [
    "#!wget -O requirements.txt https://raw.githubusercontent.com/kasparvonbeelen/SAS-LLM-Worshop/main/requirements.txt\n",
    "#!pip install -r requirements.txt"
   ]
  },
  {
   "cell_type": "markdown",
   "id": "a383b545",
   "metadata": {},
   "source": [
    "### Install packages"
   ]
  },
  {
   "cell_type": "code",
   "execution_count": null,
   "id": "9bf9f21b",
   "metadata": {},
   "outputs": [],
   "source": [
    "%%bash\n",
    "pip install requests"
   ]
  },
  {
   "cell_type": "markdown",
   "id": "e4c1d8f8",
   "metadata": {},
   "source": [
    "### Import packages"
   ]
  },
  {
   "cell_type": "code",
   "execution_count": 479,
   "id": "dd11e5d8",
   "metadata": {},
   "outputs": [],
   "source": [
    "import numpy as np\n",
    "import requests\n",
    "from collections import Counter\n",
    "import re\n",
    "import pandas as pd"
   ]
  },
  {
   "cell_type": "markdown",
   "id": "853bbc58",
   "metadata": {},
   "source": [
    "### Download data\n",
    "\n",
    "We download the texts from the Programming Historian and save them in a variable with the name 'text'.\n",
    "\n",
    "The inspect its content, we can print the first 100 characters. If you are new to Python, congratulations, you have just run your first small program! Congratulations."
   ]
  },
  {
   "cell_type": "code",
   "execution_count": 480,
   "id": "c975a55f",
   "metadata": {},
   "outputs": [
    {
     "name": "stdout",
     "output_type": "stream",
     "text": [
      "UK opposition parties have agreed not to back Boris Johnson's demand for a general election before t\n"
     ]
    }
   ],
   "source": [
    "# download data and save the information in the text variable\n",
    "text = requests.get('https://programminghistorian.org/assets/interrogating-national-narrative-gpt/articles.txt').text\n",
    "# print the first hundred characters\n",
    "print(text[:100])"
   ]
  },
  {
   "cell_type": "markdown",
   "id": "25ccd7a2",
   "metadata": {},
   "source": [
    "### Processing the documents\n",
    "\n",
    "Each line in this document contains a sentence related to Brexit. \n",
    "\n",
    "To use these texts as input to our language, we need to process them. We want to simplify the input so it's easier to construct a language model.\n",
    "-  lowercase the texts\n",
    "- add a start `<s>` and end `</s>` symbol to each sentence\n",
    "- remove punctuation\n",
    "\n",
    "**Please note**: These steps are not necessarily recommended (they remove valuable information when you want to model a sequence). But for this tutorial, we want to keep things simple and therefore have to cut corners here and there."
   ]
  },
  {
   "cell_type": "code",
   "execution_count": 481,
   "id": "1bb83199",
   "metadata": {},
   "outputs": [],
   "source": [
    "# add start and end symbol to a sentence\n",
    "format_sentence = lambda s: ['<s>'] + pattern.findall(s) + ['</s>']\n",
    "\n",
    "def process_texts(text: str) -> list:\n",
    "    \"\"\"\n",
    "    A functions that process a text input. This function assumens that lines\n",
    "    correspond with sentences. This function will wrap the sentences with \n",
    "    start and end tags (<s> and </s>) and split the sentence into tokens.\n",
    "    At the ends all sentences are combined into one list of tokens.\n",
    "    \n",
    "    Arguments\n",
    "        text (str): a text document with a sentences on each line (seperated by \\n) \n",
    "    Returns\n",
    "         tokens (list): return the input text as one long sequence of tokens\n",
    "    \"\"\"\n",
    "    pattern = re.compile('\\w+')\n",
    "\n",
    "    text = text.lower()\n",
    "    sentences = [format_sentence(s) for s in text.split('\\n')]\n",
    "    return [w for s in sentences for w in s]"
   ]
  },
  {
   "cell_type": "markdown",
   "id": "6b356225",
   "metadata": {},
   "source": [
    "The `process_texts` function will prepare our data for training the language model. You can read the docstring to better understand what the function requires as input, how it process this input and what it returns."
   ]
  },
  {
   "cell_type": "code",
   "execution_count": 482,
   "id": "eb8c1ecd",
   "metadata": {},
   "outputs": [
    {
     "name": "stdout",
     "output_type": "stream",
     "text": [
      "The total number of tokens in our corpus is:  4342340\n",
      "The first 20 tokens are:  ['<s>', 'uk', 'opposition', 'parties', 'have', 'agreed', 'not', 'to', 'back', 'boris', 'johnson', 's', 'demand', 'for', 'a', 'general', 'election', 'before', 'the', 'eu']\n"
     ]
    }
   ],
   "source": [
    "tokens = process_texts(text) # apply process texts to our document\n",
    "print('The total number of tokens in our corpus is: ',len(tokens))\n",
    "print('The first 20 tokens are: ',tokens[:20])"
   ]
  },
  {
   "cell_type": "markdown",
   "id": "d0ad0884",
   "metadata": {},
   "source": [
    "### Obtain the vocubulary"
   ]
  },
  {
   "cell_type": "code",
   "execution_count": 454,
   "id": "37ee74a6",
   "metadata": {},
   "outputs": [
    {
     "name": "stdout",
     "output_type": "stream",
     "text": [
      "The vocabulary contains 39924 distinct words.\n"
     ]
    }
   ],
   "source": [
    "vocabulary = set(tokens) # get the vocabulary, all the unique tokens in our corpus\n",
    "print(f'The vocabulary contains {len(vocabulary)} distinct words.')"
   ]
  },
  {
   "cell_type": "markdown",
   "id": "db1c6cdd",
   "metadata": {},
   "source": [
    "After processing the input data, we can start building our language model using n-gram counts. As explained in the introduction, need to compute the P(w | h), probabily of observing word w given history h.  We approximate this with bigram language model, which uses the relative counts for calculating the likelihood of observing w after h. \n",
    "\n",
    "Below we created a function that returns n-grams of length n given a sequence (of tokens)."
   ]
  },
  {
   "cell_type": "markdown",
   "id": "e4c1bb1f",
   "metadata": {},
   "source": [
    "### Compute N-Gram counts"
   ]
  },
  {
   "cell_type": "code",
   "execution_count": 456,
   "id": "04a8e19a",
   "metadata": {},
   "outputs": [],
   "source": [
    "def ngrams(tokens: list,n: int=2):\n",
    "    \"\"\"\n",
    "    A function the returns ngrams with length n as a list\n",
    "    \n",
    "    Arguments:\n",
    "        tokens (list): a list of tokens processed \n",
    "        with the process_texts function\n",
    "        n (int): an integer that determines the length of the n-grams\n",
    "    Returns:\n",
    "        a list in which each elements is n-gram of tokens represented as a string\n",
    "    \"\"\"\n",
    "    return [' '.join(tokens[i:i+n]) for i in range(len(tokens))]\n",
    "\n"
   ]
  },
  {
   "cell_type": "markdown",
   "id": "27702eb7",
   "metadata": {},
   "source": [
    "We can start with the simplest example of bigrams, sequences of length two."
   ]
  },
  {
   "cell_type": "code",
   "execution_count": 457,
   "id": "624c8ede",
   "metadata": {},
   "outputs": [
    {
     "data": {
      "text/plain": [
       "['<s> uk',\n",
       " 'uk opposition',\n",
       " 'opposition parties',\n",
       " 'parties have',\n",
       " 'have agreed',\n",
       " 'agreed not',\n",
       " 'not to',\n",
       " 'to back',\n",
       " 'back boris',\n",
       " 'boris johnson']"
      ]
     },
     "execution_count": 457,
     "metadata": {},
     "output_type": "execute_result"
    }
   ],
   "source": [
    "bigrams_list = ngrams(tokens,2) # compute bigrams\n",
    "bigrams_list[:10] # print first 10 bigrams"
   ]
  },
  {
   "cell_type": "markdown",
   "id": "82505f3b",
   "metadata": {},
   "source": [
    "As we need the n-grams counts for computing the likelihood, we need feed this list of bigrams to a `Counter` object."
   ]
  },
  {
   "cell_type": "code",
   "execution_count": 458,
   "id": "cf202708",
   "metadata": {},
   "outputs": [
    {
     "name": "stdout",
     "output_type": "stream",
     "text": [
      "[('</s> <s>', 130568), ('of the', 25933), ('the eu', 20235), ('in the', 20000), ('<s> the', 17367)]\n"
     ]
    }
   ],
   "source": [
    "bigrams = Counter(bigrams_list) # compute bigram counts\n",
    "print(bigrams.most_common(5)) # print 5 most common bigrams"
   ]
  },
  {
   "cell_type": "code",
   "execution_count": 459,
   "id": "76cbdc13",
   "metadata": {},
   "outputs": [],
   "source": [
    "trigrams = Counter(ngrams(tokens,3)) # create n-grams of length 3\n",
    "quadgrams = Counter(ngrams(tokens,4)) # create n-grams of length 4"
   ]
  },
  {
   "cell_type": "code",
   "execution_count": 460,
   "id": "e656964c",
   "metadata": {},
   "outputs": [],
   "source": [
    "#print([w for w,v in trigrams.most_common()][:10])"
   ]
  },
  {
   "cell_type": "code",
   "execution_count": 461,
   "id": "09d8afcd",
   "metadata": {
    "scrolled": true
   },
   "outputs": [],
   "source": [
    "#print([w for w,v in trigrams.most_common() if w.startswith('<s>')][:10])"
   ]
  },
  {
   "cell_type": "markdown",
   "id": "3e2c8e3f",
   "metadata": {},
   "source": [
    "### Compute the probabilities over the next word"
   ]
  },
  {
   "cell_type": "markdown",
   "id": "4fff3f19",
   "metadata": {},
   "source": [
    "Let's now compute, step by step, the next word for an input sequence. We use the trigram \"a no deal\" as prompt, and calculate what tokens is likely to follow.\n",
    "\n",
    "How likely is 'brexit' to follow 'a no deal'?"
   ]
  },
  {
   "cell_type": "code",
   "execution_count": 471,
   "id": "4fca8bff",
   "metadata": {},
   "outputs": [
    {
     "name": "stdout",
     "output_type": "stream",
     "text": [
      "The probability of \"brexit\" following \"a no deal\" is 0.646\n"
     ]
    }
   ],
   "source": [
    "sequence = 'a no deal' # prompt or history\n",
    "w = 'brexit' # next word w\n",
    "probability = quadgram[f'{sequence} {w}'] / trigrams[sequence] # compute P(h | w)\n",
    "print(f'The probability of \"{w}\" following \"{sequence}\" is {probability:.3f}') # print result of computation"
   ]
  },
  {
   "cell_type": "markdown",
   "id": "a130f0b9",
   "metadata": {},
   "source": [
    "However, we need to calculate these probabilities for each word in our vocabulary. Luckily we have machines to do that."
   ]
  },
  {
   "cell_type": "code",
   "execution_count": 472,
   "id": "62c445d6",
   "metadata": {},
   "outputs": [],
   "source": [
    "# compute P(w | h) for each word w in our vocabulary\n",
    "prob_next_word = Counter({w: quadgram[f'{sequence} {w}'] / trigrams[sequence] for w in vocabulary}) "
   ]
  },
  {
   "cell_type": "code",
   "execution_count": 473,
   "id": "df091a2b",
   "metadata": {},
   "outputs": [
    {
     "data": {
      "text/plain": [
       "[('brexit', 0.64616782793093),\n",
       " ('exit', 0.07906694940926992),\n",
       " ('scenario', 0.06846410178733717),\n",
       " ('outcome', 0.028476219327476522),\n",
       " ('</s>', 0.025446834292638595),\n",
       " ('departure', 0.016964556195092396),\n",
       " ('and', 0.006664647076643442),\n",
       " ('situation', 0.005755831566192063),\n",
       " ('would', 0.005755831566192063),\n",
       " ('or', 0.00545289306270827)]"
      ]
     },
     "execution_count": 473,
     "metadata": {},
     "output_type": "execute_result"
    }
   ],
   "source": [
    "# print ten most probably words that can follow the input\n",
    "prob_next_word.most_common(10)"
   ]
  },
  {
   "cell_type": "markdown",
   "id": "d9e83492",
   "metadata": {},
   "source": [
    "We can visualize the distribution of these probabilities using a bar chart. We only focus on the twenty words with the highest scores."
   ]
  },
  {
   "cell_type": "code",
   "execution_count": 466,
   "id": "d8f47f9a",
   "metadata": {},
   "outputs": [
    {
     "data": {
      "text/plain": [
       "<Axes: title={'center': 'probability of next word'}>"
      ]
     },
     "execution_count": 466,
     "metadata": {},
     "output_type": "execute_result"
    },
    {
     "data": {
      "image/png": "[encoded data removed]",
      "text/plain": [
       "<Figure size 432x288 with 1 Axes>"
      ]
     },
     "metadata": {
      "needs_background": "light"
     },
     "output_type": "display_data"
    }
   ],
   "source": [
    "df_prob = pd.DataFrame(list(prob_next_word.most_common(20)),columns=['token','prob'])\n",
    "df_prob.index = list(df_prob[\"token\"])\n",
    "df_prob.plot(kind='bar', title='probability of next word')"
   ]
  },
  {
   "cell_type": "markdown",
   "id": "af7743f6",
   "metadata": {},
   "source": [
    "### Sample from the probabilities"
   ]
  },
  {
   "cell_type": "markdown",
   "id": "830fdbc2",
   "metadata": {},
   "source": [
    "After computing the probabilities, we sample the next word. This adds a stochastic element to language models, i.e. outputs may differ each time. \n"
   ]
  },
  {
   "cell_type": "code",
   "execution_count": 475,
   "id": "cabd785e",
   "metadata": {},
   "outputs": [],
   "source": [
    "words, probs = list(prob_next_word),list(prob_next_word.values())"
   ]
  },
  {
   "cell_type": "code",
   "execution_count": 476,
   "id": "e4998afc",
   "metadata": {},
   "outputs": [
    {
     "data": {
      "text/plain": [
       "'brexit'"
      ]
     },
     "execution_count": 476,
     "metadata": {},
     "output_type": "execute_result"
    }
   ],
   "source": [
    "np.random.choice(words, p=probs)"
   ]
  },
  {
   "cell_type": "markdown",
   "id": "8a67eedc",
   "metadata": {},
   "source": [
    "While words with a high probability are more likely to be selected, the outcome differs on each trial."
   ]
  },
  {
   "cell_type": "code",
   "execution_count": 477,
   "id": "2605319e",
   "metadata": {},
   "outputs": [
    {
     "name": "stdout",
     "output_type": "stream",
     "text": [
      "brexit\n",
      "outcome\n",
      "exit\n",
      "</s>\n",
      "scenario\n",
      "brexit\n",
      "withdrawal\n",
      "brexit\n",
      "exit\n",
      "brexit\n"
     ]
    }
   ],
   "source": [
    "for _ in range(10):\n",
    "    print(np.random.choice(words, p=probs))"
   ]
  },
  {
   "cell_type": "markdown",
   "id": "c7ce00d0",
   "metadata": {},
   "source": [
    "### Generate text from a prompt"
   ]
  },
  {
   "cell_type": "code",
   "execution_count": 474,
   "id": "34f470da",
   "metadata": {},
   "outputs": [],
   "source": [
    "def generate_text(sequence: str) -> str:\n",
    "    \"\"\"\n",
    "    Given an input or prompt, keep on generating text until \n",
    "    you encounter the end-of-sentence token.\n",
    "    \n",
    "    Arguments:\n",
    "        sequence (str): input sequence or prompt\n",
    "    \n",
    "    Returns:\n",
    "        a generated text sequence \n",
    "    \"\"\"\n",
    "    \n",
    "    total_sequence = sequence # to keep track of each prediction we create a variable with the name total_sequence\n",
    "\n",
    "    next_word = None # we need to define the next word, but assign it a None value\n",
    "\n",
    "    while next_word != '</s>': # we keep generating text untill we encounter the end of sentence token\n",
    "        prob_next_word = Counter({w: quadgram[f'{sequence} {w}'] / trigrams[sequence] for w in vocabulary}) # compute probabilities\n",
    "        words, probs = list(prob_next_word),list(prob_next_word.values()) # compute probabilities\n",
    "        next_word = np.random.choice(words, p=probs) # sample\n",
    "        total_sequence += ' ' + next_word # add sampled word to sequence\n",
    "        sequence = ' '.join(total_sequence.split()[-3:]) # change the history to include to last three words\n",
    "    return total_sequence # return sequence after encountering a stop symbol\n"
   ]
  },
  {
   "cell_type": "code",
   "execution_count": 470,
   "id": "6fec6d11",
   "metadata": {},
   "outputs": [
    {
     "data": {
      "text/plain": [
       "'<s> theresa may entered office three years ago mrs may pledges to fight burning injustices in society here she lists her proudest achievements mental health funding domestic abuse an audit of racial discrimination and gender pay gap and organic food he was also a remainer in his heart the shadow chancellor wants to postpone as many serious decisions as possible until next year the uk should strike with the eu27 and the uk ended up contesting european elections </s>'"
      ]
     },
     "execution_count": 470,
     "metadata": {},
     "output_type": "execute_result"
    }
   ],
   "source": [
    "start_sequence = '<s> theresa may' # select a sequnence as a prompt to start generating texts\n",
    "#start_sequence = '<s> boris johnson'\n",
    "generate_text(start_sequence)"
   ]
  },
  {
   "cell_type": "markdown",
   "id": "e2c6e2bb",
   "metadata": {},
   "source": [
    "# Fin."
   ]
  }
 ],
 "metadata": {
  "kernelspec": {
   "display_name": "sas-llm",
   "language": "python",
   "name": "sas-llm"
  },
  "language_info": {
   "codemirror_mode": {
    "name": "ipython",
    "version": 3
   },
   "file_extension": ".py",
   "mimetype": "text/x-python",
   "name": "python",
   "nbconvert_exporter": "python",
   "pygments_lexer": "ipython3",
   "version": "3.9.16"
  }
 },
 "nbformat": 4,
 "nbformat_minor": 5
}
