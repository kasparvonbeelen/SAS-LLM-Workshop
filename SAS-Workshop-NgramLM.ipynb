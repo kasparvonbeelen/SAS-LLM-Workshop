{
 "cells": [
  {
   "cell_type": "markdown",
   "id": "d50f7f68",
   "metadata": {},
   "source": [
    "# Pocking at Ever Larger Language Models\n",
    "### An introduction for (digital) humanists\n",
    "\n",
    "## Part 1: Exploring n-gram language models\n",
    "\n",
    "In this notebook we look more closely at how the build a simple n-gram language model and use this model to generate new sentences.\n",
    "\n",
    "Main topics discussed in this notebook:\n",
    "- Language models as **distributions over sequences**\n",
    "- Generating new texts by **sampling** from this distribution"
   ]
  },
  {
   "cell_type": "markdown",
   "id": "829f8ef1",
   "metadata": {},
   "source": [
    "\n",
    "## Introduction \n",
    "\n",
    "In this tutorial we use news coverage on Brexit. You will learn how to generate Brexit prose, yay! The same material is also used in the Programming Historian lesson on [Generating Text with GPT-2](https://programminghistorian.org/assets/interrogating-national-narrative-gpt/). We have a closer look later, but credit where credit is due. \n",
    "\n"
   ]
  },
  {
   "cell_type": "markdown",
   "id": "cd9047ad",
   "metadata": {},
   "source": [
    "## Install Packages\n",
    "\n",
    "We work in Colab Notebooks, and before we start playing with code we need to install some packages.\n",
    "\n",
    "Below you see a code cell. \n",
    "\n",
    "**Action**: Remove the # at the start of each line and run the cell."
   ]
  },
  {
   "cell_type": "code",
   "execution_count": null,
   "id": "8aa94703",
   "metadata": {},
   "outputs": [],
   "source": [
    "#!wget -O requirements.txt https://raw.githubusercontent.com/kasparvonbeelen/SAS-LLM-Worshop/main/requirements.txt\n",
    "#!pip install -r requirements.txt"
   ]
  },
  {
   "cell_type": "markdown",
   "id": "e4c1d8f8",
   "metadata": {},
   "source": [
    "## Modelling Brexit Narrative(s)\n",
    "\n",
    "In the accompanying slideshow we introduced the basic terminology and concepts. \n",
    "\n",
    "As a reminder, to better understand the materials discussed here, please consult the [Chapter 3](https://web.stanford.edu/~jurafsky/slp3/3.pdf) in the event excellent \n",
    "[Speech and Language Processing](https://web.stanford.edu/~jurafsky/slp3/) (3rd ed. draft) by Dan Jurafsky and James H. Martin\n"
   ]
  },
  {
   "cell_type": "code",
   "execution_count": 406,
   "id": "dd11e5d8",
   "metadata": {},
   "outputs": [],
   "source": [
    "import numpy as np\n",
    "import requests\n",
    "from collections import Counter\n",
    "import re\n",
    "import pandas as pd"
   ]
  },
  {
   "cell_type": "markdown",
   "id": "02a6b1bb",
   "metadata": {},
   "source": [
    "We download the texts from the Programming Historian."
   ]
  },
  {
   "cell_type": "code",
   "execution_count": 407,
   "id": "c975a55f",
   "metadata": {},
   "outputs": [],
   "source": [
    "text = requests.get('https://programminghistorian.org/assets/interrogating-national-narrative-gpt/articles.txt').text"
   ]
  },
  {
   "cell_type": "markdown",
   "id": "540907aa",
   "metadata": {},
   "source": [
    "The peek at its content, we can print the first 100 characters. If you are new to Python, congratulations, you have just run your first small program!"
   ]
  },
  {
   "cell_type": "code",
   "execution_count": 310,
   "id": "62391272",
   "metadata": {},
   "outputs": [
    {
     "name": "stdout",
     "output_type": "stream",
     "text": [
      "UK opposition parties have agreed not to back Boris Johnson's demand for a general election before the EU summit in mid-October.\n",
      "Labour, the Lib Dems, the SNP and Plaid Cymru say they will vote against the government or abstain in Monday's vote on wh\n"
     ]
    }
   ],
   "source": [
    "print(text[:250])"
   ]
  },
  {
   "cell_type": "markdown",
   "id": "a19d139a",
   "metadata": {},
   "source": [
    "Each line in this documents contains sentence related to Brexit. \n",
    "\n",
    "\n",
    "To use these texts as input to our language we need process it a bit. We want to simplify the input, so it's be easier to compute pr\n",
    "- will lowercase the texts\n",
    "- each sentence with a start and end symbol\n",
    "- remove punctuation\n",
    "\n",
    "Not each of these steps are necessarily recomended (they remove valuable information when you want to model a sequence. But for this tutorial we want to keep things simple and therefore have to cut corner here and there."
   ]
  },
  {
   "cell_type": "code",
   "execution_count": 397,
   "id": "5310f771",
   "metadata": {},
   "outputs": [],
   "source": [
    "format_sentence = lambda s: ['<s>'] + pattern.findall(s) + ['</s>']\n",
    "\n",
    "def process_texts(text: str) -> list:\n",
    "    \"\"\"\n",
    "    A functions that process a text input. This function assumens that lines\n",
    "    correspond with sentences. This function will wrap the sentences with \n",
    "    start and end tags (<s> and </s>) and split the sentence into tokens.\n",
    "    At the ends all sentences are combined into one list of tokens.\n",
    "    \n",
    "    Arguments\n",
    "        text (str): a text document with a sentences on each line (seperated by \\n) \n",
    "    Returns\n",
    "         tokens (list): return the input text as one long sequence of tokens\n",
    "    \"\"\"\n",
    "    pattern = re.compile('\\w+')\n",
    "\n",
    "    text = text.lower()\n",
    "    sentences = [format_sentence(s) for s in text.split('\\n')]\n",
    "    return [w for s in sentences for w in s]"
   ]
  },
  {
   "cell_type": "markdown",
   "id": "12fc5a55",
   "metadata": {},
   "source": [
    "The `process_texts` function will prepare our data for training the language model. You can read the docstring to better understand what the function requires as input, how it process this input and what it returns."
   ]
  },
  {
   "cell_type": "code",
   "execution_count": 401,
   "id": "eb8c1ecd",
   "metadata": {},
   "outputs": [
    {
     "name": "stdout",
     "output_type": "stream",
     "text": [
      "The total number of tokens in our corpus is:  4342340\n",
      "The first 20 tokens are:  ['<s>', 'uk', 'opposition', 'parties', 'have', 'agreed', 'not', 'to', 'back', 'boris', 'johnson', 's', 'demand', 'for', 'a', 'general', 'election', 'before', 'the', 'eu']\n"
     ]
    }
   ],
   "source": [
    "tokens = process_texts(text)\n",
    "print('The total number of tokens in our corpus is: ',len(tokens))\n",
    "print('The first 20 tokens are: ',tokens[:20])"
   ]
  },
  {
   "cell_type": "code",
   "execution_count": 404,
   "id": "37ee74a6",
   "metadata": {},
   "outputs": [
    {
     "name": "stdout",
     "output_type": "stream",
     "text": [
      "The vocabulary contains 39924 distinct words.\n"
     ]
    }
   ],
   "source": [
    "vocabulary = set(tokens)\n",
    "print(f'The vocabulary contains {len(vocabulary)} distinct words.')"
   ]
  },
  {
   "cell_type": "markdown",
   "id": "749346bf",
   "metadata": {},
   "source": [
    "After processing the input data, we can start building our language model using n-grams counts. As explained in the introduction, need to compute the P(w | h), probabily of observing word w given history h.  We approximate this with quadgram language model, which uses the relative counts for calculating the likelihood of observing w after h. \n",
    "\n",
    "Below we created a function that returns n-grams of length n given a sequence (of tokens)."
   ]
  },
  {
   "cell_type": "code",
   "execution_count": 405,
   "id": "04a8e19a",
   "metadata": {},
   "outputs": [],
   "source": [
    "def ngrams(tokens: list,n: int=2):\n",
    "    \"\"\"\n",
    "    A function the returns ngrams with length n as a list\n",
    "    \n",
    "    Arguments:\n",
    "        tokens (list): a list of tokens processed \n",
    "        with the process_texts function\n",
    "        n (int): an integer that determines the length of the n-grams\n",
    "    Returns:\n",
    "        a list in which each elements is n-gram of tokens represented as a string\n",
    "    \"\"\"\n",
    "    return [' '.join(tokens[i:i+n]) for i in range(len(tokens))]\n",
    "\n"
   ]
  },
  {
   "cell_type": "markdown",
   "id": "737b0717",
   "metadata": {},
   "source": [
    "We can start with the simplest example of bigrams, sequences of length two."
   ]
  },
  {
   "cell_type": "code",
   "execution_count": 408,
   "id": "624c8ede",
   "metadata": {},
   "outputs": [
    {
     "data": {
      "text/plain": [
       "['<s> uk',\n",
       " 'uk opposition',\n",
       " 'opposition parties',\n",
       " 'parties have',\n",
       " 'have agreed',\n",
       " 'agreed not',\n",
       " 'not to',\n",
       " 'to back',\n",
       " 'back boris',\n",
       " 'boris johnson']"
      ]
     },
     "execution_count": 408,
     "metadata": {},
     "output_type": "execute_result"
    }
   ],
   "source": [
    "bigrams_list = ngrams(tokens,2)\n",
    "bigrams_list[:10]"
   ]
  },
  {
   "cell_type": "markdown",
   "id": "5f7c5dd3",
   "metadata": {},
   "source": [
    "As we need the n-grams counts for computing the likelihood, we need feed this list of bigrams to a `Counter` object."
   ]
  },
  {
   "cell_type": "code",
   "execution_count": 410,
   "id": "cf202708",
   "metadata": {},
   "outputs": [
    {
     "name": "stdout",
     "output_type": "stream",
     "text": [
      "[('</s> <s>', 130568), ('of the', 25933), ('the eu', 20235), ('in the', 20000), ('<s> the', 17367)]\n"
     ]
    }
   ],
   "source": [
    "bigrams = Counter(bigrams_list)\n",
    "print(bigrams.most_common(5))"
   ]
  },
  {
   "cell_type": "code",
   "execution_count": 374,
   "id": "76cbdc13",
   "metadata": {},
   "outputs": [],
   "source": [
    "trigrams = Counter(ngrams(tokens,3)) # create n-grams of length 3\n",
    "quadgrams = Counter(ngrams(tokens,4)) # create n-grams of length 4"
   ]
  },
  {
   "cell_type": "code",
   "execution_count": 419,
   "id": "1790634e",
   "metadata": {},
   "outputs": [],
   "source": [
    "#print([w for w,v in trigrams.most_common()][:10])"
   ]
  },
  {
   "cell_type": "code",
   "execution_count": 418,
   "id": "b76f31c4",
   "metadata": {
    "scrolled": true
   },
   "outputs": [],
   "source": [
    "#print([w for w,v in trigrams.most_common() if w.startswith('<s>')][:10])"
   ]
  },
  {
   "cell_type": "markdown",
   "id": "31cbf47e",
   "metadata": {},
   "source": [
    "Let's now compute, step by step, the next word for an input sequence. We use the trigram \"a no deal\", and calculate what tokens is likely to follow.\n",
    "\n",
    "In the line "
   ]
  },
  {
   "cell_type": "code",
   "execution_count": 432,
   "id": "795753a6",
   "metadata": {},
   "outputs": [
    {
     "name": "stdout",
     "output_type": "stream",
     "text": [
      "The probability of \"brexit\" following \"a no deal\" is 0.646\n"
     ]
    }
   ],
   "source": [
    "sequence = 'a no deal'\n",
    "w = 'brexit'\n",
    "probability = quadgram[f'{sequence} {w}'] / trigrams[sequence]\n",
    "print(f'The probability of \"{w}\" following \"{sequence}\" is {probability:.3f}')"
   ]
  },
  {
   "cell_type": "markdown",
   "id": "6f081ba2",
   "metadata": {},
   "source": [
    "However, we need to calculate these probabilities for each word in our vocabulary. Luckily we have machines to do that."
   ]
  },
  {
   "cell_type": "code",
   "execution_count": 435,
   "id": "62c445d6",
   "metadata": {},
   "outputs": [],
   "source": [
    "prob_next_word = Counter({w: quadgram[f'{sequence} {w}'] / trigrams[sequence] for w in vocabulary})"
   ]
  },
  {
   "cell_type": "code",
   "execution_count": 436,
   "id": "df091a2b",
   "metadata": {},
   "outputs": [
    {
     "data": {
      "text/plain": [
       "[('brexit', 0.64616782793093),\n",
       " ('exit', 0.07906694940926992),\n",
       " ('scenario', 0.06846410178733717),\n",
       " ('outcome', 0.028476219327476522),\n",
       " ('</s>', 0.025446834292638595),\n",
       " ('departure', 0.016964556195092396),\n",
       " ('and', 0.006664647076643442),\n",
       " ('situation', 0.005755831566192063),\n",
       " ('would', 0.005755831566192063),\n",
       " ('or', 0.00545289306270827),\n",
       " ('split', 0.004847016055740685),\n",
       " ('crash', 0.004241139048773099),\n",
       " ('is', 0.003938200545289306),\n",
       " ('on', 0.003938200545289306),\n",
       " ('but', 0.0036352620418055137),\n",
       " ('in', 0.003332323538321721),\n",
       " ('divorce', 0.003332323538321721),\n",
       " ('withdrawal', 0.002726446531354135),\n",
       " ('the', 0.0024235080278703423),\n",
       " ('was', 0.0024235080278703423)]"
      ]
     },
     "execution_count": 436,
     "metadata": {},
     "output_type": "execute_result"
    }
   ],
   "source": [
    "prob_next_word.most_common(20)"
   ]
  },
  {
   "cell_type": "markdown",
   "id": "df0e7041",
   "metadata": {},
   "source": [
    "We can visualize the distribution of these probabilities using a bar chart. We only focus on the twenty words with the highest scores."
   ]
  },
  {
   "cell_type": "code",
   "execution_count": 437,
   "id": "a692a3c2",
   "metadata": {},
   "outputs": [
    {
     "data": {
      "text/plain": [
       "<Axes: title={'center': 'probability of next word'}>"
      ]
     },
     "execution_count": 437,
     "metadata": {},
     "output_type": "execute_result"
    },
    {
     "data": {
      "image/png": "[encoded data removed]",
      "text/plain": [
       "<Figure size 432x288 with 1 Axes>"
      ]
     },
     "metadata": {
      "needs_background": "light"
     },
     "output_type": "display_data"
    }
   ],
   "source": [
    "df_prob = pd.DataFrame(list(prob_next_word.most_common(20)),columns=['token','prob'])\n",
    "df_prob.index = list(df_prob[\"token\"])\n",
    "df_prob.plot(kind='bar', title='probability of next word')"
   ]
  },
  {
   "cell_type": "code",
   "execution_count": 438,
   "id": "cabd785e",
   "metadata": {},
   "outputs": [],
   "source": [
    "words, probs = list(prob_next_word),list(prob_next_word.values())"
   ]
  },
  {
   "cell_type": "code",
   "execution_count": 439,
   "id": "e4998afc",
   "metadata": {},
   "outputs": [
    {
     "data": {
      "text/plain": [
       "'brexit'"
      ]
     },
     "execution_count": 439,
     "metadata": {},
     "output_type": "execute_result"
    }
   ],
   "source": [
    "np.random.choice(words, p=probs)"
   ]
  },
  {
   "cell_type": "code",
   "execution_count": 440,
   "id": "b8d89cd0",
   "metadata": {},
   "outputs": [
    {
     "name": "stdout",
     "output_type": "stream",
     "text": [
      "brexit\n",
      "more\n",
      "brexit\n",
      "brexit\n",
      "may\n",
      "brexit\n",
      "brexit\n",
      "brexit\n",
      "exit\n",
      "brexit\n"
     ]
    }
   ],
   "source": [
    "for _ in range(10):\n",
    "    print(np.random.choice(words, p=probs))"
   ]
  },
  {
   "cell_type": "code",
   "execution_count": 443,
   "id": "be0da998",
   "metadata": {},
   "outputs": [],
   "source": [
    "def generate_text(sequence):\n",
    "    \"\"\"\n",
    "    \"\"\"\n",
    "    \n",
    "    total_sequence = sequence # to keep track of each prediction we create a variable with the name total_sequence\n",
    "\n",
    "    next_word = None # we need to define the next word, but assign it a None value\n",
    "\n",
    "    while next_word != '</s>': # we keep generating text untill we encounter the end of sentence token\n",
    "        prob_next_word = Counter({w: quadgram[f'{sequence} {w}'] / trigrams[sequence] for w in vocabulary})\n",
    "        words, probs = list(prob_next_word),list(prob_next_word.values())\n",
    "        next_word = np.random.choice(words, p=probs)\n",
    "        total_sequence += ' ' + next_word\n",
    "        sequence = ' '.join(total_sequence.split()[-3:])\n",
    "    return total_sequence"
   ]
  },
  {
   "cell_type": "code",
   "execution_count": 444,
   "id": "6fec6d11",
   "metadata": {},
   "outputs": [
    {
     "data": {
      "text/plain": [
       "'<s> theresa may must accept that leaving with no deal and the judgement is clear that the vote was called they had expected it to have credibility with the british government position still lacks political or moral force to do that would they </s>'"
      ]
     },
     "execution_count": 444,
     "metadata": {},
     "output_type": "execute_result"
    }
   ],
   "source": [
    "#sequence = '<s> theresa may' # select a sequnence as a prompt to start generating texts\n",
    "#sequence = '<s> boris johnson'\n",
    "generate_text('<s> theresa may')"
   ]
  },
  {
   "cell_type": "code",
   "execution_count": null,
   "id": "14b58eda",
   "metadata": {},
   "outputs": [],
   "source": []
  },
  {
   "cell_type": "code",
   "execution_count": null,
   "id": "5a8fdf48",
   "metadata": {},
   "outputs": [],
   "source": []
  }
 ],
 "metadata": {
  "kernelspec": {
   "display_name": "sas-llm",
   "language": "python",
   "name": "sas-llm"
  },
  "language_info": {
   "codemirror_mode": {
    "name": "ipython",
    "version": 3
   },
   "file_extension": ".py",
   "mimetype": "text/x-python",
   "name": "python",
   "nbconvert_exporter": "python",
   "pygments_lexer": "ipython3",
   "version": "3.9.16"
  }
 },
 "nbformat": 4,
 "nbformat_minor": 5
}
