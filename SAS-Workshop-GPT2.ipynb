{
 "cells": [
  {
   "cell_type": "markdown",
   "id": "d50f7f68",
   "metadata": {},
   "source": [
    "# 2. Pocking at Ever Larger Language Models\n",
    "## An introduction for (digital) humanists\n"
   ]
  },
  {
   "cell_type": "markdown",
   "id": "f077586e",
   "metadata": {},
   "source": [
    "## Pretrained Language Models (10 mins)\n",
    "\n",
    "- Transition from N-Gram to Neural Language Models (ca. 2013)\n",
    "\n",
    "- [Don't count, predict!](https://aclanthology.org/P14-1023.pdf) (when **training** a language model)\n",
    "\n",
    "## Terminology\n",
    "- Parameters are \"knobs\" you can adjust to transform an input to the output you want\n",
    "- Deep Learning algorithms attempt to find the optimal setting of these knobs. The more knobs to more complex stuff you can do (but equally, it becomes harder to understand how the machine actually works).\n",
    "![simpleNN](https://miro.medium.com/v2/resize:fit:624/1*U3FfvaDbIjr7VobJj89fCQ.png)\n",
    "\n",
    "- LM pretraining and fine-tuning (Why it works better)\n",
    "\n",
    "## Common PLM variants\n",
    "- Causal/Autoregressive language models (GPT series): Predict the next [BLANK]\n",
    "- Masked Language Models (BERT and family): Predict the [BLANK] word.\n"
   ]
  },
  {
   "cell_type": "markdown",
   "id": "25bb7969",
   "metadata": {},
   "source": [
    "## Text Generation with GPT-2\n",
    "\n",
    "While more complex, GPT-2 operates similarly to our simple N-Gram LM.\n",
    "- Given a prompt, it computes the probability over the following word\n",
    "- Then we sample a word from this distribution, add it to the prompt and repeat!\n",
    "\n",
    "Materials inspired by this [blog post](https://huggingface.co/blog/how-to-generate) and the excellent Programming Historian lesson.\n"
   ]
  },
  {
   "cell_type": "code",
   "execution_count": 15,
   "id": "068fc31a",
   "metadata": {},
   "outputs": [
    {
     "name": "stdout",
     "output_type": "stream",
     "text": [
      "huggingface/tokenizers: The current process just got forked, after parallelism has already been used. Disabling parallelism to avoid deadlocks...\n",
      "To disable this warning, you can either:\n",
      "\t- Avoid using `tokenizers` before the fork if possible\n",
      "\t- Explicitly set the environment variable TOKENIZERS_PARALLELISM=(true | false)\n",
      "Requirement already satisfied: transformers in /Users/kasparbeelen/anaconda3/envs/sas-llm/lib/python3.9/site-packages (4.28.1)\n",
      "Requirement already satisfied: huggingface-hub<1.0,>=0.11.0 in /Users/kasparbeelen/anaconda3/envs/sas-llm/lib/python3.9/site-packages (from transformers) (0.14.1)\n",
      "Requirement already satisfied: tokenizers!=0.11.3,<0.14,>=0.11.1 in /Users/kasparbeelen/anaconda3/envs/sas-llm/lib/python3.9/site-packages (from transformers) (0.13.3)\n",
      "Requirement already satisfied: requests in /Users/kasparbeelen/anaconda3/envs/sas-llm/lib/python3.9/site-packages (from transformers) (2.29.0)\n",
      "Requirement already satisfied: pyyaml>=5.1 in /Users/kasparbeelen/anaconda3/envs/sas-llm/lib/python3.9/site-packages (from transformers) (6.0)\n",
      "Requirement already satisfied: numpy>=1.17 in /Users/kasparbeelen/anaconda3/envs/sas-llm/lib/python3.9/site-packages (from transformers) (1.24.3)\n",
      "Requirement already satisfied: packaging>=20.0 in /Users/kasparbeelen/anaconda3/envs/sas-llm/lib/python3.9/site-packages (from transformers) (23.1)\n",
      "Requirement already satisfied: tqdm>=4.27 in /Users/kasparbeelen/anaconda3/envs/sas-llm/lib/python3.9/site-packages (from transformers) (4.65.0)\n",
      "Requirement already satisfied: regex!=2019.12.17 in /Users/kasparbeelen/anaconda3/envs/sas-llm/lib/python3.9/site-packages (from transformers) (2023.3.23)\n",
      "Requirement already satisfied: filelock in /Users/kasparbeelen/anaconda3/envs/sas-llm/lib/python3.9/site-packages (from transformers) (3.12.0)\n",
      "Requirement already satisfied: fsspec in /Users/kasparbeelen/anaconda3/envs/sas-llm/lib/python3.9/site-packages (from huggingface-hub<1.0,>=0.11.0->transformers) (2023.4.0)\n",
      "Requirement already satisfied: typing-extensions>=3.7.4.3 in /Users/kasparbeelen/anaconda3/envs/sas-llm/lib/python3.9/site-packages (from huggingface-hub<1.0,>=0.11.0->transformers) (4.5.0)\n",
      "Requirement already satisfied: charset-normalizer<4,>=2 in /Users/kasparbeelen/anaconda3/envs/sas-llm/lib/python3.9/site-packages (from requests->transformers) (3.1.0)\n",
      "Requirement already satisfied: idna<4,>=2.5 in /Users/kasparbeelen/anaconda3/envs/sas-llm/lib/python3.9/site-packages (from requests->transformers) (3.4)\n",
      "Requirement already satisfied: certifi>=2017.4.17 in /Users/kasparbeelen/anaconda3/envs/sas-llm/lib/python3.9/site-packages (from requests->transformers) (2022.12.7)\n",
      "Requirement already satisfied: urllib3<1.27,>=1.21.1 in /Users/kasparbeelen/anaconda3/envs/sas-llm/lib/python3.9/site-packages (from requests->transformers) (1.26.15)\n"
     ]
    }
   ],
   "source": [
    "!pip install transformers xformers"
   ]
  },
  {
   "cell_type": "markdown",
   "id": "26f52b23",
   "metadata": {},
   "source": [
    "## Next word prediction with GPT-2"
   ]
  },
  {
   "cell_type": "code",
   "execution_count": null,
   "id": "85d1a78e",
   "metadata": {},
   "outputs": [],
   "source": [
    "from transformers import GPT2LMHeadModel, GPT2Tokenizer, GPT2Model\n",
    "import numpy as np\n",
    "from torch.nn import Softmax\n",
    "import pandas as pd"
   ]
  },
  {
   "cell_type": "code",
   "execution_count": 1,
   "id": "f1f5c7e4",
   "metadata": {},
   "outputs": [],
   "source": [
    "tokenizer = GPT2Tokenizer.from_pretrained(\"gpt2\")\n",
    "# add the EOS token as PAD token to avoid warnings\n",
    "model = GPT2LMHeadModel.from_pretrained(\"gpt2\", pad_token_id=tokenizer.eos_token_id)"
   ]
  },
  {
   "cell_type": "code",
   "execution_count": 2,
   "id": "fa9ee56f",
   "metadata": {},
   "outputs": [],
   "source": [
    "# load the gpt-2 model\n",
    "gpt2 = GPT2Model.from_pretrained(\"gpt2\", pad_token_id=tokenizer.eos_token_id)"
   ]
  },
  {
   "cell_type": "code",
   "execution_count": 3,
   "id": "0a8b72a7",
   "metadata": {},
   "outputs": [
    {
     "data": {
      "text/plain": [
       "tensor([[15496,   616,  3891,   318]])"
      ]
     },
     "execution_count": 3,
     "metadata": {},
     "output_type": "execute_result"
    }
   ],
   "source": [
    "prompt = 'Hello my names is' # define a prompt\n",
    "input_ids = tokenizer.encode(prompt, return_tensors='pt') # tokenize prompt as input for language model\n",
    "input_ids"
   ]
  },
  {
   "cell_type": "code",
   "execution_count": 4,
   "id": "9c62559a",
   "metadata": {},
   "outputs": [],
   "source": [
    "predictions = model(**tokenizer(prompt, return_tensors='pt')) # get logits from model"
   ]
  },
  {
   "cell_type": "code",
   "execution_count": 5,
   "id": "9659afbe",
   "metadata": {},
   "outputs": [
    {
     "data": {
      "text/plain": [
       "torch.Size([1, 4, 50257])"
      ]
     },
     "execution_count": 5,
     "metadata": {},
     "output_type": "execute_result"
    }
   ],
   "source": [
    "predictions.logits.shape # the predictions as logits"
   ]
  },
  {
   "cell_type": "code",
   "execution_count": 39,
   "id": "09f19573",
   "metadata": {},
   "outputs": [
    {
     "data": {
      "text/plain": [
       "' John'"
      ]
     },
     "execution_count": 39,
     "metadata": {},
     "output_type": "execute_result"
    }
   ],
   "source": [
    "# get words with highest probability\n",
    "tokenizer.decode(np.argmax(predictions.logits[0,-1,:].detach().numpy()))"
   ]
  },
  {
   "cell_type": "code",
   "execution_count": 41,
   "id": "32ed2aba",
   "metadata": {},
   "outputs": [
    {
     "data": {
      "text/plain": [
       "<Axes: >"
      ]
     },
     "execution_count": 41,
     "metadata": {},
     "output_type": "execute_result"
    },
    {
     "data": {
      "image/png": "[encoded data removed]",
      "text/plain": [
       "<Figure size 1440x360 with 1 Axes>"
      ]
     },
     "metadata": {
      "needs_background": "light"
     },
     "output_type": "display_data"
    }
   ],
   "source": [
    "softmax = Softmax(dim=0) # load softmax function\n",
    "series = pd.Series(softmax(predictions.logits[0,-1,:]).detach()).sort_values(ascending=False)\n",
    "index = [tokenizer.decode(x) for x in series.index] # change index to tokens\n",
    "series.index = index # set tokens as index\n",
    "series[:100].plot(kind='bar',figsize=(20,5)) # plot results"
   ]
  },
  {
   "cell_type": "markdown",
   "id": "af3b1441",
   "metadata": {},
   "source": [
    "## Generating texts from prompts"
   ]
  },
  {
   "cell_type": "code",
   "execution_count": 43,
   "id": "fa213409",
   "metadata": {},
   "outputs": [],
   "source": [
    "#sequence = 'the duke of'\n",
    "#sequence = 'A no deal Brexit'\n",
    "sequence = 'The UK is'"
   ]
  },
  {
   "cell_type": "code",
   "execution_count": 44,
   "id": "1c5e3e93",
   "metadata": {},
   "outputs": [
    {
     "name": "stderr",
     "output_type": "stream",
     "text": [
      "/Users/kasparbeelen/anaconda3/envs/sas-llm/lib/python3.9/site-packages/transformers/generation/utils.py:1219: UserWarning: You have modified the pretrained model configuration to control generation. This is a deprecated strategy to control generation and will be removed soon, in a future version. Please use a generation configuration file (see https://huggingface.co/docs/transformers/main_classes/text_generation)\n",
      "  warnings.warn(\n"
     ]
    },
    {
     "data": {
      "text/plain": [
       "[{'generated_text': 'The UK is looking to raise £2,500 as a starting point for the £100m funding plan over a nine-year period but is not'},\n",
       " {'generated_text': 'The UK is to provide services to countries with the highest quality of life.\\n\\nThe ESR-7 also works to ensure that the United Kingdom'},\n",
       " {'generated_text': 'The UK is one of the two biggest companies to receive investment by an investment bank, with £6.6bn coming from Deutsche Bank.\\n\\n'},\n",
       " {'generated_text': 'The UK is already experiencing the first real surge in its coal use in more than 40 years, with a new round of new coal-fired power stations'},\n",
       " {'generated_text': 'The UK is \"actively\" preparing contingency plans to deal with a number of \"troubling developments\", though no further conclusions have been drawn by the'},\n",
       " {'generated_text': 'The UK is still going through an extremely disappointing period since I began making this analysis more than a year ago. But the EU vote to leave the EU'},\n",
       " {'generated_text': 'The UK is a proud participant in the global environmental movement – we are a member of Greenpeace International and our work is a legacy of this global movement,'},\n",
       " {'generated_text': 'The UK is a long way left from being even remotely good at dealing with the global financial crisis once we leave the EU on December 23, 2017,'},\n",
       " {'generated_text': 'The UK is looking at extending the definition of \"harm in a job\" to include any condition that is not covered by the Work and Pensions Bill'},\n",
       " {'generated_text': 'The UK is not only cutting its coal consumption, but it is also changing the way it sells coal. At the same time, the coal industry has'}]"
      ]
     },
     "execution_count": 44,
     "metadata": {},
     "output_type": "execute_result"
    }
   ],
   "source": [
    "from transformers import pipeline\n",
    "generator = pipeline('text-generation', model = 'gpt2',pad_token_id=tokenizer.eos_token_id)\n",
    "generator(sequence, max_length = 30, num_return_sequences=10)"
   ]
  },
  {
   "cell_type": "markdown",
   "id": "04dbd00d",
   "metadata": {},
   "source": [
    "Increasing the temperature can make predictions more creative (or random if you [like](https://medium.com/mlearning-ai/softmax-temperature-5492e4007f71#:~:text=Temperature%20is%20a%20hyperparameter%20of%20LSTMs%20(and%20neural%20networks%20generally,utilize%20the%20Softmax%20decision%20layer.)))\n",
    "\n",
    "![temperature](https://miro.medium.com/v2/resize:fit:1400/format:webp/0*7xj72SjtNHvCMQlV.jpeg)\n",
    "\n",
    "Image taken for this [blog post](https://medium.com/mlearning-ai/softmax-temperature-5492e4007f71#:~:text=Temperature%20is%20a%20hyperparameter%20of%20LSTMs%20(and%20neural%20networks%20generally,utilize%20the%20Softmax%20decision%20layer.) on temperature in Softmax."
   ]
  },
  {
   "cell_type": "code",
   "execution_count": 53,
   "id": "3f54c458",
   "metadata": {},
   "outputs": [
    {
     "data": {
      "text/plain": [
       "[{'generated_text': 'The UK is the only country in the world that does not have a national health service.\\n\\nThe NHS is the only country in the world that'},\n",
       " {'generated_text': 'The UK is the only country in the world that does not have a national health service.\\n\\nThe NHS is the only country in the world that'},\n",
       " {'generated_text': 'The UK is the only country in the world that does not have a national health service.\\n\\nThe NHS is the only country in the world that'},\n",
       " {'generated_text': 'The UK is the only country in the world that does not have a national health service.\\n\\nThe NHS is the only country in the world that'},\n",
       " {'generated_text': 'The UK is the only country in the world that does not have a national health service.\\n\\nThe NHS is the only country in the world that'}]"
      ]
     },
     "execution_count": 53,
     "metadata": {},
     "output_type": "execute_result"
    }
   ],
   "source": [
    "import torch\n",
    "torch.manual_seed(0)\n",
    "generator(sequence, \n",
    "          max_length = 30, \n",
    "          num_return_sequences=5,\n",
    "          do_sample=True, \n",
    "          top_k = 0,\n",
    "          temperature=.000000001, # change temparature to .7\n",
    "         )\n"
   ]
  },
  {
   "cell_type": "markdown",
   "id": "189d0f2b",
   "metadata": {},
   "source": [
    "### Top k sampling"
   ]
  },
  {
   "cell_type": "code",
   "execution_count": 56,
   "id": "56abf244",
   "metadata": {},
   "outputs": [
    {
     "data": {
      "text/plain": [
       "[{'generated_text': \"The UK is the world's first, and largest supplier of UK-made medical marijuana, after a company in China developed a highly-efficient, fully\"},\n",
       " {'generated_text': 'The UK is leading the fight for an independent Brexit.\"\\n\\nThe Labour Party\\'s Shadow Brexit Secretary and current Home Secretary, Andrea Leadsom,'}]"
      ]
     },
     "execution_count": 56,
     "metadata": {},
     "output_type": "execute_result"
    }
   ],
   "source": [
    "generator(sequence, \n",
    "          max_length = 30, \n",
    "          do_sample=True, \n",
    "          num_return_sequences=2,\n",
    "         \n",
    "          top_k=50)"
   ]
  },
  {
   "cell_type": "markdown",
   "id": "ccb9c317",
   "metadata": {},
   "source": [
    "### Top p of nucleus sampling"
   ]
  },
  {
   "cell_type": "code",
   "execution_count": 58,
   "id": "2ffd16b8",
   "metadata": {},
   "outputs": [
    {
     "data": {
      "text/plain": [
       "[{'generated_text': 'The UK is an independent province which does not recognise any specific nation or country in common. These are distinct countries of residence in the Union under the E'},\n",
       " {'generated_text': \"The UK is preparing to launch 'flagship' nuclear power stations which would run for at least 10 years before it goes down the power chain, where\"}]"
      ]
     },
     "execution_count": 58,
     "metadata": {},
     "output_type": "execute_result"
    }
   ],
   "source": [
    "generator(sequence, \n",
    "          max_length = 30, \n",
    "          do_sample=True, \n",
    "          num_return_sequences=2,\n",
    "          top_k=0,\n",
    "          top_p=.92)"
   ]
  },
  {
   "cell_type": "markdown",
   "id": "ac9c668e",
   "metadata": {},
   "source": [
    "## Adapting a language model\n",
    "\n",
    "Building a GPT-Brexit model on top of GPT-2.\n",
    "\n",
    "Question: How does it change the behaviour of this model?"
   ]
  },
  {
   "cell_type": "code",
   "execution_count": 49,
   "id": "a5e47513",
   "metadata": {},
   "outputs": [
    {
     "data": {
      "text/plain": [
       "[{'generated_text': 'The UK is already more than three-quarters of the way through the legal phase of talks. If Brexit talks end on October 31, they go through'},\n",
       " {'generated_text': 'The UK is set to leave the EU for six months from the 29th Feb with no deal - though the EU - on 31 October it will be'},\n",
       " {'generated_text': 'The UK is not the only European country to be affected by a disruption to the border between Northern Ireland and the Republic of Ireland. This is likely to'},\n",
       " {'generated_text': 'The UK is set to leave the EU on 29 March 2019.\\nThe transition period is the length of the transition period to allow for a smooth transition'},\n",
       " {'generated_text': 'The UK is at \"a crossroads\" in its Brexit negotiations.\\nThe EU said it would only provide assurances about the country\\'s legal status after'},\n",
       " {'generated_text': 'The UK is in an economic and social limbo with no clear plan at the moment.\\n\"With time running out and a trade deal so far under'},\n",
       " {'generated_text': 'The UK is not leaving without a deal, it is leaving unguarded. But you cannot say that today, with only two weeks until the Brexit'},\n",
       " {'generated_text': 'The UK is not a member of the so-called 27 states and only has a border on Gibraltar, which is governed by the Lisbon Treaty of 1967'},\n",
       " {'generated_text': 'The UK is not part of the \"transition\" of goods, as the EU had suggested when the UK returned from the 1972-75 transition period'},\n",
       " {'generated_text': \"The UK is willing to accept the EU's offer and if that offer is not accepted then it could lead to a trade deficit or a short-term\"}]"
      ]
     },
     "execution_count": 49,
     "metadata": {},
     "output_type": "execute_result"
    }
   ],
   "source": [
    "from transformers import pipeline\n",
    "generator = pipeline('text-generation', model = 'Kaspar/gpt-brexit',tokenizer='gpt2',pad_token_id=tokenizer.eos_token_id)\n",
    "generator(sequence, max_length = 30, num_return_sequences=10)"
   ]
  },
  {
   "cell_type": "markdown",
   "id": "30ad5721",
   "metadata": {},
   "source": [
    "# Bias and Toxicity in PLM (and LLMs)\n",
    "\n",
    "An excellent [HuggingFace tutorial](https://colab.research.google.com/drive/1-HDJUcPMKEF-E7Hapih0OmA1xTW2hdAv#scrollTo=MOsHUjgdIrIW) to be integrated later."
   ]
  },
  {
   "cell_type": "markdown",
   "id": "44dd3f68",
   "metadata": {},
   "source": [
    "# Masked Language Models and History "
   ]
  },
  {
   "cell_type": "code",
   "execution_count": 59,
   "id": "d9fa715b",
   "metadata": {},
   "outputs": [
    {
     "name": "stdout",
     "output_type": "stream",
     "text": [
      "huggingface/tokenizers: The current process just got forked, after parallelism has already been used. Disabling parallelism to avoid deadlocks...\n",
      "To disable this warning, you can either:\n",
      "\t- Avoid using `tokenizers` before the fork if possible\n",
      "\t- Explicitly set the environment variable TOKENIZERS_PARALLELISM=(true | false)\n"
     ]
    },
    {
     "data": {
      "application/vnd.jupyter.widget-view+json": {
       "model_id": "9e7a6e129aa149ecb87099cf170886ae",
       "version_major": 2,
       "version_minor": 0
      },
      "text/plain": [
       "Downloading (…)lve/main/config.json:   0%|          | 0.00/570 [00:00<?, ?B/s]"
      ]
     },
     "metadata": {},
     "output_type": "display_data"
    },
    {
     "data": {
      "application/vnd.jupyter.widget-view+json": {
       "model_id": "c7698a1ae7e94a088bfa91ca39b4afe2",
       "version_major": 2,
       "version_minor": 0
      },
      "text/plain": [
       "Downloading pytorch_model.bin:   0%|          | 0.00/440M [00:00<?, ?B/s]"
      ]
     },
     "metadata": {},
     "output_type": "display_data"
    },
    {
     "name": "stderr",
     "output_type": "stream",
     "text": [
      "Some weights of the model checkpoint at bert-base-uncased were not used when initializing BertForMaskedLM: ['cls.seq_relationship.weight', 'cls.seq_relationship.bias']\n",
      "- This IS expected if you are initializing BertForMaskedLM from the checkpoint of a model trained on another task or with another architecture (e.g. initializing a BertForSequenceClassification model from a BertForPreTraining model).\n",
      "- This IS NOT expected if you are initializing BertForMaskedLM from the checkpoint of a model that you expect to be exactly identical (initializing a BertForSequenceClassification model from a BertForSequenceClassification model).\n"
     ]
    },
    {
     "data": {
      "application/vnd.jupyter.widget-view+json": {
       "model_id": "bb701e4edaf1410c9e2643fc9e4fa337",
       "version_major": 2,
       "version_minor": 0
      },
      "text/plain": [
       "Downloading (…)okenizer_config.json:   0%|          | 0.00/28.0 [00:00<?, ?B/s]"
      ]
     },
     "metadata": {},
     "output_type": "display_data"
    },
    {
     "data": {
      "application/vnd.jupyter.widget-view+json": {
       "model_id": "5f26a13e2470427a95dad5133ffd3ade",
       "version_major": 2,
       "version_minor": 0
      },
      "text/plain": [
       "Downloading (…)solve/main/vocab.txt:   0%|          | 0.00/232k [00:00<?, ?B/s]"
      ]
     },
     "metadata": {},
     "output_type": "display_data"
    },
    {
     "data": {
      "application/vnd.jupyter.widget-view+json": {
       "model_id": "8372f5f20d0d448685e1fe3a68a111bf",
       "version_major": 2,
       "version_minor": 0
      },
      "text/plain": [
       "Downloading (…)/main/tokenizer.json:   0%|          | 0.00/466k [00:00<?, ?B/s]"
      ]
     },
     "metadata": {},
     "output_type": "display_data"
    },
    {
     "data": {
      "text/plain": [
       "[{'score': 0.6143149137496948,\n",
       "  'token': 8858,\n",
       "  'token_str': 'servants',\n",
       "  'sequence': 'in a word, servants must be treated, not as servants, but as human beings who are always more in clined to act according to their immediate personal interest than according to the dictates of high morality.'},\n",
       " {'score': 0.038304492831230164,\n",
       "  'token': 7179,\n",
       "  'token_str': 'slaves',\n",
       "  'sequence': 'in a word, servants must be treated, not as slaves, but as human beings who are always more in clined to act according to their immediate personal interest than according to the dictates of high morality.'},\n",
       " {'score': 0.03722238168120384,\n",
       "  'token': 4176,\n",
       "  'token_str': 'animals',\n",
       "  'sequence': 'in a word, servants must be treated, not as animals, but as human beings who are always more in clined to act according to their immediate personal interest than according to the dictates of high morality.'},\n",
       " {'score': 0.02273709885776043,\n",
       "  'token': 2111,\n",
       "  'token_str': 'people',\n",
       "  'sequence': 'in a word, servants must be treated, not as people, but as human beings who are always more in clined to act according to their immediate personal interest than according to the dictates of high morality.'},\n",
       " {'score': 0.02156064659357071,\n",
       "  'token': 3633,\n",
       "  'token_str': 'individuals',\n",
       "  'sequence': 'in a word, servants must be treated, not as individuals, but as human beings who are always more in clined to act according to their immediate personal interest than according to the dictates of high morality.'}]"
      ]
     },
     "execution_count": 59,
     "metadata": {},
     "output_type": "execute_result"
    }
   ],
   "source": [
    "from transformers import pipeline\n",
    "sentences = \"In a word, servants must be treated, not as [MASK] , but as human beings who are always more in clined to act according to their immediate personal interest than according to the dictates of high morality.\"\n",
    "\n",
    "masker = pipeline(\"fill-mask\", model='bert-base-uncased')\n",
    "masker(sentences)"
   ]
  },
  {
   "cell_type": "code",
   "execution_count": 60,
   "id": "1aef5d57",
   "metadata": {},
   "outputs": [
    {
     "data": {
      "application/vnd.jupyter.widget-view+json": {
       "model_id": "a4fe7bd8b1854e8bb9440bee89323b11",
       "version_major": 2,
       "version_minor": 0
      },
      "text/plain": [
       "Downloading (…)lve/main/config.json:   0%|          | 0.00/1.13k [00:00<?, ?B/s]"
      ]
     },
     "metadata": {},
     "output_type": "display_data"
    },
    {
     "data": {
      "application/vnd.jupyter.widget-view+json": {
       "model_id": "67bd93b26c0e44edb8f0dcdad3ec4088",
       "version_major": 2,
       "version_minor": 0
      },
      "text/plain": [
       "Downloading pytorch_model.bin:   0%|          | 0.00/440M [00:00<?, ?B/s]"
      ]
     },
     "metadata": {},
     "output_type": "display_data"
    },
    {
     "data": {
      "application/vnd.jupyter.widget-view+json": {
       "model_id": "643542e441144d4b85e00daf731cddca",
       "version_major": 2,
       "version_minor": 0
      },
      "text/plain": [
       "Downloading (…)okenizer_config.json:   0%|          | 0.00/39.0 [00:00<?, ?B/s]"
      ]
     },
     "metadata": {},
     "output_type": "display_data"
    },
    {
     "data": {
      "application/vnd.jupyter.widget-view+json": {
       "model_id": "40d654f4d0124905a63345aa52475fc0",
       "version_major": 2,
       "version_minor": 0
      },
      "text/plain": [
       "Downloading (…)solve/main/vocab.txt:   0%|          | 0.00/232k [00:00<?, ?B/s]"
      ]
     },
     "metadata": {},
     "output_type": "display_data"
    },
    {
     "data": {
      "application/vnd.jupyter.widget-view+json": {
       "model_id": "8ff504cde5ce4cdeb9cd62da01628f7e",
       "version_major": 2,
       "version_minor": 0
      },
      "text/plain": [
       "Downloading (…)cial_tokens_map.json:   0%|          | 0.00/112 [00:00<?, ?B/s]"
      ]
     },
     "metadata": {},
     "output_type": "display_data"
    },
    {
     "ename": "NameError",
     "evalue": "name 'sentences' is not defined",
     "output_type": "error",
     "traceback": [
      "\u001b[0;31m---------------------------------------------------------------------------\u001b[0m",
      "\u001b[0;31mNameError\u001b[0m                                 Traceback (most recent call last)",
      "Input \u001b[0;32mIn [60]\u001b[0m, in \u001b[0;36m<cell line: 4>\u001b[0;34m()\u001b[0m\n\u001b[1;32m      1\u001b[0m \u001b[38;5;28;01mfrom\u001b[39;00m \u001b[38;5;21;01mtransformers\u001b[39;00m \u001b[38;5;28;01mimport\u001b[39;00m pipeline\n\u001b[1;32m      3\u001b[0m victorian_masker \u001b[38;5;241m=\u001b[39m pipeline(\u001b[38;5;124m\"\u001b[39m\u001b[38;5;124mfill-mask\u001b[39m\u001b[38;5;124m\"\u001b[39m, model\u001b[38;5;241m=\u001b[39m\u001b[38;5;124m'\u001b[39m\u001b[38;5;124mLivingwithmachines/bert_1760_1900\u001b[39m\u001b[38;5;124m'\u001b[39m)\n\u001b[0;32m----> 4\u001b[0m victorian_masker(\u001b[43msentences\u001b[49m)\n",
      "\u001b[0;31mNameError\u001b[0m: name 'sentences' is not defined"
     ]
    }
   ],
   "source": [
    "from transformers import pipeline\n",
    "\n",
    "victorian_masker = pipeline(\"fill-mask\", model='Livingwithmachines/bert_1760_1900')\n",
    "victorian_masker(sentences)"
   ]
  },
  {
   "cell_type": "markdown",
   "id": "68b41422",
   "metadata": {},
   "source": [
    "# Fin."
   ]
  }
 ],
 "metadata": {
  "kernelspec": {
   "display_name": "sas-llm",
   "language": "python",
   "name": "sas-llm"
  },
  "language_info": {
   "codemirror_mode": {
    "name": "ipython",
    "version": 3
   },
   "file_extension": ".py",
   "mimetype": "text/x-python",
   "name": "python",
   "nbconvert_exporter": "python",
   "pygments_lexer": "ipython3",
   "version": "3.9.16"
  }
 },
 "nbformat": 4,
 "nbformat_minor": 5
}
