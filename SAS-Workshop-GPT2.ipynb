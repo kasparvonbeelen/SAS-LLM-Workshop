{
 "cells": [
  {
   "cell_type": "markdown",
   "id": "d50f7f68",
   "metadata": {},
   "source": [
    "# 2. Pocking at Ever Larger Language Models\n",
    "## An introduction for (digital) humanists\n"
   ]
  },
  {
   "cell_type": "markdown",
   "id": "f077586e",
   "metadata": {},
   "source": [
    "## Pretrained Language Models (10 mins)\n",
    "\n",
    "- Transition from N-Gram to Neural Language Models (ca. 2013)\n",
    "\n",
    "- [Don't count, predict!](https://aclanthology.org/P14-1023.pdf) (when **training** a language model)\n",
    "\n",
    "## Terminology\n",
    "- Parameters are \"knobs\" you can adjust to transform an input to the output you want\n",
    "- Deep Learning algorithms attempt to find the optimal setting of these knobs. The more knobs to more complex stuff you can do (but equally, it becomes harder to understand how the machine actually works).\n",
    "![simpleNN](https://miro.medium.com/v2/resize:fit:624/1*U3FfvaDbIjr7VobJj89fCQ.png)\n",
    "\n",
    "- LM pretraining and fine-tuning (Why it works better)\n",
    "\n",
    "## Common PLM variants\n",
    "- Causal/Autoregressive language models (GPT series): Predict the next [BLANK]\n",
    "- Masked Language Models (BERT and family): Predict the [BLANK] word.\n"
   ]
  },
  {
   "cell_type": "markdown",
   "id": "25bb7969",
   "metadata": {},
   "source": [
    "## Text Generation with GPT-2\n",
    "\n",
    "While more complex, GPT-2 operates similarly to our simple N-Gram LM.\n",
    "- Given a prompt, it computes the probability over the following word\n",
    "- Then we sample a word from this distribution, add it to the prompt and repeat!\n",
    "\n",
    "Materials inspired by this [blog post](https://huggingface.co/blog/how-to-generate) and the excellent Programming Historian lesson.\n"
   ]
  },
  {
   "cell_type": "code",
   "execution_count": 15,
   "id": "068fc31a",
   "metadata": {},
   "outputs": [
    {
     "name": "stdout",
     "output_type": "stream",
     "text": [
      "huggingface/tokenizers: The current process just got forked, after parallelism has already been used. Disabling parallelism to avoid deadlocks...\n",
      "To disable this warning, you can either:\n",
      "\t- Avoid using `tokenizers` before the fork if possible\n",
      "\t- Explicitly set the environment variable TOKENIZERS_PARALLELISM=(true | false)\n",
      "Requirement already satisfied: transformers in /Users/kasparbeelen/anaconda3/envs/sas-llm/lib/python3.9/site-packages (4.28.1)\n",
      "Requirement already satisfied: huggingface-hub<1.0,>=0.11.0 in /Users/kasparbeelen/anaconda3/envs/sas-llm/lib/python3.9/site-packages (from transformers) (0.14.1)\n",
      "Requirement already satisfied: tokenizers!=0.11.3,<0.14,>=0.11.1 in /Users/kasparbeelen/anaconda3/envs/sas-llm/lib/python3.9/site-packages (from transformers) (0.13.3)\n",
      "Requirement already satisfied: requests in /Users/kasparbeelen/anaconda3/envs/sas-llm/lib/python3.9/site-packages (from transformers) (2.29.0)\n",
      "Requirement already satisfied: pyyaml>=5.1 in /Users/kasparbeelen/anaconda3/envs/sas-llm/lib/python3.9/site-packages (from transformers) (6.0)\n",
      "Requirement already satisfied: numpy>=1.17 in /Users/kasparbeelen/anaconda3/envs/sas-llm/lib/python3.9/site-packages (from transformers) (1.24.3)\n",
      "Requirement already satisfied: packaging>=20.0 in /Users/kasparbeelen/anaconda3/envs/sas-llm/lib/python3.9/site-packages (from transformers) (23.1)\n",
      "Requirement already satisfied: tqdm>=4.27 in /Users/kasparbeelen/anaconda3/envs/sas-llm/lib/python3.9/site-packages (from transformers) (4.65.0)\n",
      "Requirement already satisfied: regex!=2019.12.17 in /Users/kasparbeelen/anaconda3/envs/sas-llm/lib/python3.9/site-packages (from transformers) (2023.3.23)\n",
      "Requirement already satisfied: filelock in /Users/kasparbeelen/anaconda3/envs/sas-llm/lib/python3.9/site-packages (from transformers) (3.12.0)\n",
      "Requirement already satisfied: fsspec in /Users/kasparbeelen/anaconda3/envs/sas-llm/lib/python3.9/site-packages (from huggingface-hub<1.0,>=0.11.0->transformers) (2023.4.0)\n",
      "Requirement already satisfied: typing-extensions>=3.7.4.3 in /Users/kasparbeelen/anaconda3/envs/sas-llm/lib/python3.9/site-packages (from huggingface-hub<1.0,>=0.11.0->transformers) (4.5.0)\n",
      "Requirement already satisfied: charset-normalizer<4,>=2 in /Users/kasparbeelen/anaconda3/envs/sas-llm/lib/python3.9/site-packages (from requests->transformers) (3.1.0)\n",
      "Requirement already satisfied: idna<4,>=2.5 in /Users/kasparbeelen/anaconda3/envs/sas-llm/lib/python3.9/site-packages (from requests->transformers) (3.4)\n",
      "Requirement already satisfied: certifi>=2017.4.17 in /Users/kasparbeelen/anaconda3/envs/sas-llm/lib/python3.9/site-packages (from requests->transformers) (2022.12.7)\n",
      "Requirement already satisfied: urllib3<1.27,>=1.21.1 in /Users/kasparbeelen/anaconda3/envs/sas-llm/lib/python3.9/site-packages (from requests->transformers) (1.26.15)\n"
     ]
    }
   ],
   "source": [
    "!pip install transformers"
   ]
  },
  {
   "cell_type": "markdown",
   "id": "26f52b23",
   "metadata": {},
   "source": [
    "## Next word prediction with GPT-2"
   ]
  },
  {
   "cell_type": "code",
   "execution_count": 58,
   "id": "f1f5c7e4",
   "metadata": {},
   "outputs": [],
   "source": [
    "from transformers import GPT2LMHeadModel, GPT2Tokenizer, GPT2Model\n",
    "import numpy as np\n",
    "\n",
    "\n",
    "tokenizer = GPT2Tokenizer.from_pretrained(\"gpt2\")\n",
    "\n",
    "# add the EOS token as PAD token to avoid warnings\n",
    "model = GPT2LMHeadModel.from_pretrained(\"gpt2\", pad_token_id=tokenizer.eos_token_id)"
   ]
  },
  {
   "cell_type": "code",
   "execution_count": 40,
   "id": "fa9ee56f",
   "metadata": {},
   "outputs": [],
   "source": [
    "# load the gpt-2 model\n",
    "gpt2 = GPT2Model.from_pretrained(\"gpt2\", pad_token_id=tokenizer.eos_token_id)"
   ]
  },
  {
   "cell_type": "code",
   "execution_count": 60,
   "id": "0a8b72a7",
   "metadata": {},
   "outputs": [
    {
     "data": {
      "text/plain": [
       "tensor([[15496,   616,  3891,   318]])"
      ]
     },
     "execution_count": 60,
     "metadata": {},
     "output_type": "execute_result"
    }
   ],
   "source": [
    "prompt = 'Hello my names is' # define a prompt\n",
    "input_ids = tokenizer.encode(prompt, return_tensors='pt') # tokenize prompt as input for language model\n",
    "input_ids"
   ]
  },
  {
   "cell_type": "code",
   "execution_count": 61,
   "id": "9c62559a",
   "metadata": {},
   "outputs": [],
   "source": [
    "predictions = model(**tokenizer(sequence, return_tensors='pt')) # get logits from model"
   ]
  },
  {
   "cell_type": "code",
   "execution_count": 62,
   "id": "9659afbe",
   "metadata": {},
   "outputs": [
    {
     "data": {
      "text/plain": [
       "torch.Size([1, 3, 50257])"
      ]
     },
     "execution_count": 62,
     "metadata": {},
     "output_type": "execute_result"
    }
   ],
   "source": [
    "predictions.logits.shape"
   ]
  },
  {
   "cell_type": "code",
   "execution_count": 64,
   "id": "09f19573",
   "metadata": {},
   "outputs": [
    {
     "data": {
      "text/plain": [
       "' the'"
      ]
     },
     "execution_count": 64,
     "metadata": {},
     "output_type": "execute_result"
    }
   ],
   "source": [
    "# get words with highest probability\n",
    "tokenizer.decode(np.argmax(predictions.logits[0,-1,:].detach().numpy()))"
   ]
  },
  {
   "cell_type": "markdown",
   "id": "21a02eef",
   "metadata": {},
   "source": [
    "## Generating texts from prompts"
   ]
  },
  {
   "cell_type": "code",
   "execution_count": 16,
   "id": "fa213409",
   "metadata": {},
   "outputs": [],
   "source": [
    "#sequence = 'the duke of'\n",
    "#sequence = 'A no deal Brexit'\n",
    "sequence = 'The UK is'"
   ]
  },
  {
   "cell_type": "code",
   "execution_count": 48,
   "id": "1c5e3e93",
   "metadata": {},
   "outputs": [
    {
     "data": {
      "text/plain": [
       "[{'generated_text': 'The UK is \"worrying about the UK\\'s future exit from the EU after Brexit, and have a strong interest in moving forward at such a'},\n",
       " {'generated_text': \"The UK is one of the largest producers and exporters of the world's most sought-after luxury goods, which is used for clothing, accessories,\"},\n",
       " {'generated_text': 'The UK is planning to go into an aggressive phase to boost the domestic trade deficit - though its approach will also depend on how high up the tax-'},\n",
       " {'generated_text': \"The UK is on track to take full advantage of the Government's commitment to address the issue of the health and safety benefits for all British Columbians,\"},\n",
       " {'generated_text': 'The UK is one of the most technologically advanced nations on Earth with population of just over 80 billion worldwide, and a huge amount of this has been due'},\n",
       " {'generated_text': 'The UK is one of our leading suppliers of modern hardware.\\n\\n\"To help us fulfil this objective, we are making an investment in building new'},\n",
       " {'generated_text': 'The UK is leading the way in the study of how and why people use online media and communications. To date, we have studied the use of social'},\n",
       " {'generated_text': 'The UK is one of the few major EU countries with a fully open and democratic European government, meaning no politician or parliamentary party can abuse its powerful veto'},\n",
       " {'generated_text': 'The UK is to commit to £100m to \"ensure that it is properly equipped and trained to meet the needs of all its members, including'},\n",
       " {'generated_text': \"The UK is an international city, with two main centres and a number of smaller centres.\\n\\nThe US is also the UK's leading provider of\"}]"
      ]
     },
     "execution_count": 48,
     "metadata": {},
     "output_type": "execute_result"
    }
   ],
   "source": [
    "from transformers import pipeline\n",
    "generator = pipeline('text-generation', model = 'gpt2',pad_token_id=tokenizer.eos_token_id)\n",
    "generator(sequence, max_length = 30, num_return_sequences=10)"
   ]
  },
  {
   "cell_type": "code",
   "execution_count": 55,
   "id": "7ce0bac2",
   "metadata": {},
   "outputs": [
    {
     "data": {
      "text/plain": [
       "[{'generated_text': 'The UK is set to leave the European Union in 2019.\\n\\nIn a statement, Prime Minister David Cameron said he was \"deeply disappointed\"'},\n",
       " {'generated_text': 'The UK is the only country in the world that does not have a minimum wage. The UK has one of the lowest minimum wages of any OECD country'}]"
      ]
     },
     "execution_count": 55,
     "metadata": {},
     "output_type": "execute_result"
    }
   ],
   "source": [
    "generator(sequence, \n",
    "          max_length = 30, \n",
    "          num_return_sequences=2,\n",
    "          num_beams=5, \n",
    "          no_repeat_ngram_size=2, )"
   ]
  },
  {
   "cell_type": "code",
   "execution_count": 56,
   "id": "719b61ee",
   "metadata": {},
   "outputs": [
    {
     "data": {
      "text/plain": [
       "[{'generated_text': 'The UK is attempting to negotiate an end to the £20bn deficit that has dogged the government for years and is now thought to be due to excessive'},\n",
       " {'generated_text': 'The UK is estimated to have more than half a million dogs on the streets of England but only 2.6 per cent have been sold to other states'}]"
      ]
     },
     "execution_count": 56,
     "metadata": {},
     "output_type": "execute_result"
    }
   ],
   "source": [
    "generator(sequence, \n",
    "          max_length = 30, \n",
    "          num_return_sequences=2,\n",
    "          do_sample=True, \n",
    "          top_k = 0,\n",
    "          temperature=.7 )"
   ]
  },
  {
   "cell_type": "code",
   "execution_count": 57,
   "id": "ce5ae2bd",
   "metadata": {},
   "outputs": [
    {
     "data": {
      "text/plain": [
       "[{'generated_text': 'The UK is leading the way in developing this approach and, in particular, a range of development and marketing tools. It enables us to help developers start'},\n",
       " {'generated_text': \"The UK is on course to create 300,000 jobs a year as Brexit negotiations approach. The government's chief trade negotiator, Liam Fox, said this\"}]"
      ]
     },
     "execution_count": 57,
     "metadata": {},
     "output_type": "execute_result"
    }
   ],
   "source": [
    "generator(sequence, \n",
    "          max_length = 30, \n",
    "          num_return_sequences=2,\n",
    "          top_k = 50,)"
   ]
  },
  {
   "cell_type": "markdown",
   "id": "006a1537",
   "metadata": {},
   "source": [
    "## Adapting a language model\n",
    "\n",
    "Building a GPT-Brexit model on top of GPT-2.\n",
    "\n",
    "Question: How does it change the behaviour of this model?"
   ]
  },
  {
   "cell_type": "code",
   "execution_count": 49,
   "id": "a5e47513",
   "metadata": {},
   "outputs": [
    {
     "data": {
      "text/plain": [
       "[{'generated_text': 'The UK is already more than three-quarters of the way through the legal phase of talks. If Brexit talks end on October 31, they go through'},\n",
       " {'generated_text': 'The UK is set to leave the EU for six months from the 29th Feb with no deal - though the EU - on 31 October it will be'},\n",
       " {'generated_text': 'The UK is not the only European country to be affected by a disruption to the border between Northern Ireland and the Republic of Ireland. This is likely to'},\n",
       " {'generated_text': 'The UK is set to leave the EU on 29 March 2019.\\nThe transition period is the length of the transition period to allow for a smooth transition'},\n",
       " {'generated_text': 'The UK is at \"a crossroads\" in its Brexit negotiations.\\nThe EU said it would only provide assurances about the country\\'s legal status after'},\n",
       " {'generated_text': 'The UK is in an economic and social limbo with no clear plan at the moment.\\n\"With time running out and a trade deal so far under'},\n",
       " {'generated_text': 'The UK is not leaving without a deal, it is leaving unguarded. But you cannot say that today, with only two weeks until the Brexit'},\n",
       " {'generated_text': 'The UK is not a member of the so-called 27 states and only has a border on Gibraltar, which is governed by the Lisbon Treaty of 1967'},\n",
       " {'generated_text': 'The UK is not part of the \"transition\" of goods, as the EU had suggested when the UK returned from the 1972-75 transition period'},\n",
       " {'generated_text': \"The UK is willing to accept the EU's offer and if that offer is not accepted then it could lead to a trade deficit or a short-term\"}]"
      ]
     },
     "execution_count": 49,
     "metadata": {},
     "output_type": "execute_result"
    }
   ],
   "source": [
    "from transformers import pipeline\n",
    "generator = pipeline('text-generation', model = 'Kaspar/gpt-brexit',tokenizer='gpt2',pad_token_id=tokenizer.eos_token_id)\n",
    "generator(sequence, max_length = 30, num_return_sequences=10)"
   ]
  },
  {
   "cell_type": "markdown",
   "id": "30ad5721",
   "metadata": {},
   "source": [
    "# Bias and Toxicity in PLM (and LLMs)\n",
    "\n",
    "An excellent [HuggingFace tutorial](https://colab.research.google.com/drive/1-HDJUcPMKEF-E7Hapih0OmA1xTW2hdAv#scrollTo=MOsHUjgdIrIW) to be integrated later."
   ]
  },
  {
   "cell_type": "markdown",
   "id": "38610d7f",
   "metadata": {},
   "source": [
    "# Fin."
   ]
  }
 ],
 "metadata": {
  "kernelspec": {
   "display_name": "sas-llm",
   "language": "python",
   "name": "sas-llm"
  },
  "language_info": {
   "codemirror_mode": {
    "name": "ipython",
    "version": 3
   },
   "file_extension": ".py",
   "mimetype": "text/x-python",
   "name": "python",
   "nbconvert_exporter": "python",
   "pygments_lexer": "ipython3",
   "version": "3.9.16"
  }
 },
 "nbformat": 4,
 "nbformat_minor": 5
}
