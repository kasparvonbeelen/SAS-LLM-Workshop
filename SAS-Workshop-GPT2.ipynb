{
 "cells": [
  {
   "cell_type": "markdown",
   "id": "d50f7f68",
   "metadata": {},
   "source": [
    "# Pocking at Ever Larger Language Models\n",
    "## An introduction for (digital) humanists\n"
   ]
  },
  {
   "cell_type": "markdown",
   "id": "829f8ef1",
   "metadata": {},
   "source": [
    "\n",
    "## Introduction "
   ]
  },
  {
   "cell_type": "markdown",
   "id": "cd9047ad",
   "metadata": {},
   "source": [
    "## Download data"
   ]
  },
  {
   "cell_type": "code",
   "execution_count": 1,
   "id": "c7e1e05d",
   "metadata": {},
   "outputs": [
    {
     "name": "stdout",
     "output_type": "stream",
     "text": [
      "--2023-04-26 17:01:10--  https://bl.iro.bl.uk/downloads/59a8c52f-e0a5-4432-9897-0db8c067627c\n",
      "Resolving bl.iro.bl.uk (bl.iro.bl.uk)... 52.211.187.46, 52.209.26.210, 18.202.144.94\n",
      "Connecting to bl.iro.bl.uk (bl.iro.bl.uk)|52.211.187.46|:443... connected.\n",
      "HTTP request sent, awaiting response... 200 OK\n",
      "Length: 144694 (141K) [application/zip]\n",
      "Saving to: ‘animacy.zip’\n",
      "\n",
      "animacy.zip         100%[===================>] 141.30K  --.-KB/s    in 0.05s   \n",
      "\n",
      "2023-04-26 17:01:10 (2.77 MB/s) - ‘animacy.zip’ saved [144694/144694]\n",
      "\n"
     ]
    }
   ],
   "source": [
    "!wget -O animacy.zip https://bl.iro.bl.uk/downloads/59a8c52f-e0a5-4432-9897-0db8c067627c"
   ]
  },
  {
   "cell_type": "code",
   "execution_count": null,
   "id": "bc175be9",
   "metadata": {},
   "outputs": [],
   "source": [
    "#!wget -O requirements.txt https://raw.githubusercontent.com/kasparvonbeelen/SAS-LLM-Worshop/main/requirements.txt"
   ]
  },
  {
   "cell_type": "code",
   "execution_count": 51,
   "id": "c6ad00bc",
   "metadata": {},
   "outputs": [
    {
     "name": "stdout",
     "output_type": "stream",
     "text": [
      "Requirement already satisfied: numpy in /Users/kasparbeelen/anaconda3/envs/sas-llm/lib/python3.9/site-packages (from -r requirements.txt (line 1)) (1.24.3)\n",
      "Requirement already satisfied: requests in /Users/kasparbeelen/anaconda3/envs/sas-llm/lib/python3.9/site-packages (from -r requirements.txt (line 2)) (2.29.0)\n",
      "Requirement already satisfied: transformers in /Users/kasparbeelen/anaconda3/envs/sas-llm/lib/python3.9/site-packages (from -r requirements.txt (line 3)) (4.28.1)\n",
      "Requirement already satisfied: torch in /Users/kasparbeelen/anaconda3/envs/sas-llm/lib/python3.9/site-packages (from -r requirements.txt (line 4)) (2.0.0)\n",
      "Requirement already satisfied: torchvision in /Users/kasparbeelen/anaconda3/envs/sas-llm/lib/python3.9/site-packages (from -r requirements.txt (line 5)) (0.15.1)\n",
      "Requirement already satisfied: torchaudio in /Users/kasparbeelen/anaconda3/envs/sas-llm/lib/python3.9/site-packages (from -r requirements.txt (line 6)) (2.0.1)\n",
      "Requirement already satisfied: pandas in /Users/kasparbeelen/anaconda3/envs/sas-llm/lib/python3.9/site-packages (from -r requirements.txt (line 7)) (2.0.1)\n",
      "Collecting matplotlib\n",
      "  Downloading matplotlib-3.7.1-cp39-cp39-macosx_11_0_arm64.whl (7.3 MB)\n",
      "\u001b[2K     \u001b[90m━━━━━━━━━━━━━━━━━━━━━━━━━━━━━━━━━━━━━━━━\u001b[0m \u001b[32m7.3/7.3 MB\u001b[0m \u001b[31m8.6 MB/s\u001b[0m eta \u001b[36m0:00:00\u001b[0m00:01\u001b[0m00:01\u001b[0m\n",
      "\u001b[?25hRequirement already satisfied: urllib3<1.27,>=1.21.1 in /Users/kasparbeelen/anaconda3/envs/sas-llm/lib/python3.9/site-packages (from requests->-r requirements.txt (line 2)) (1.26.15)\n",
      "Requirement already satisfied: certifi>=2017.4.17 in /Users/kasparbeelen/anaconda3/envs/sas-llm/lib/python3.9/site-packages (from requests->-r requirements.txt (line 2)) (2022.12.7)\n",
      "Requirement already satisfied: charset-normalizer<4,>=2 in /Users/kasparbeelen/anaconda3/envs/sas-llm/lib/python3.9/site-packages (from requests->-r requirements.txt (line 2)) (3.1.0)\n",
      "Requirement already satisfied: idna<4,>=2.5 in /Users/kasparbeelen/anaconda3/envs/sas-llm/lib/python3.9/site-packages (from requests->-r requirements.txt (line 2)) (3.4)\n",
      "Requirement already satisfied: packaging>=20.0 in /Users/kasparbeelen/anaconda3/envs/sas-llm/lib/python3.9/site-packages (from transformers->-r requirements.txt (line 3)) (23.1)\n",
      "Requirement already satisfied: pyyaml>=5.1 in /Users/kasparbeelen/anaconda3/envs/sas-llm/lib/python3.9/site-packages (from transformers->-r requirements.txt (line 3)) (6.0)\n",
      "Requirement already satisfied: tqdm>=4.27 in /Users/kasparbeelen/anaconda3/envs/sas-llm/lib/python3.9/site-packages (from transformers->-r requirements.txt (line 3)) (4.65.0)\n",
      "Requirement already satisfied: huggingface-hub<1.0,>=0.11.0 in /Users/kasparbeelen/anaconda3/envs/sas-llm/lib/python3.9/site-packages (from transformers->-r requirements.txt (line 3)) (0.14.1)\n",
      "Requirement already satisfied: regex!=2019.12.17 in /Users/kasparbeelen/anaconda3/envs/sas-llm/lib/python3.9/site-packages (from transformers->-r requirements.txt (line 3)) (2023.3.23)\n",
      "Requirement already satisfied: filelock in /Users/kasparbeelen/anaconda3/envs/sas-llm/lib/python3.9/site-packages (from transformers->-r requirements.txt (line 3)) (3.12.0)\n",
      "Requirement already satisfied: tokenizers!=0.11.3,<0.14,>=0.11.1 in /Users/kasparbeelen/anaconda3/envs/sas-llm/lib/python3.9/site-packages (from transformers->-r requirements.txt (line 3)) (0.13.3)\n",
      "Requirement already satisfied: networkx in /Users/kasparbeelen/anaconda3/envs/sas-llm/lib/python3.9/site-packages (from torch->-r requirements.txt (line 4)) (3.1)\n",
      "Requirement already satisfied: typing-extensions in /Users/kasparbeelen/anaconda3/envs/sas-llm/lib/python3.9/site-packages (from torch->-r requirements.txt (line 4)) (4.5.0)\n",
      "Requirement already satisfied: jinja2 in /Users/kasparbeelen/anaconda3/envs/sas-llm/lib/python3.9/site-packages (from torch->-r requirements.txt (line 4)) (3.1.2)\n",
      "Requirement already satisfied: sympy in /Users/kasparbeelen/anaconda3/envs/sas-llm/lib/python3.9/site-packages (from torch->-r requirements.txt (line 4)) (1.11.1)\n",
      "Requirement already satisfied: pillow!=8.3.*,>=5.3.0 in /Users/kasparbeelen/anaconda3/envs/sas-llm/lib/python3.9/site-packages (from torchvision->-r requirements.txt (line 5)) (9.5.0)\n",
      "Requirement already satisfied: python-dateutil>=2.8.2 in /Users/kasparbeelen/anaconda3/envs/sas-llm/lib/python3.9/site-packages (from pandas->-r requirements.txt (line 7)) (2.8.2)\n",
      "Requirement already satisfied: tzdata>=2022.1 in /Users/kasparbeelen/anaconda3/envs/sas-llm/lib/python3.9/site-packages (from pandas->-r requirements.txt (line 7)) (2023.3)\n",
      "Requirement already satisfied: pytz>=2020.1 in /Users/kasparbeelen/anaconda3/envs/sas-llm/lib/python3.9/site-packages (from pandas->-r requirements.txt (line 7)) (2023.3)\n",
      "Collecting importlib-resources>=3.2.0\n",
      "  Downloading importlib_resources-5.12.0-py3-none-any.whl (36 kB)\n",
      "Collecting kiwisolver>=1.0.1\n",
      "  Downloading kiwisolver-1.4.4-cp39-cp39-macosx_11_0_arm64.whl (63 kB)\n",
      "\u001b[2K     \u001b[90m━━━━━━━━━━━━━━━━━━━━━━━━━━━━━━━━━━━━━━━━\u001b[0m \u001b[32m63.2/63.2 kB\u001b[0m \u001b[31m6.9 MB/s\u001b[0m eta \u001b[36m0:00:00\u001b[0m\n",
      "\u001b[?25hCollecting pyparsing>=2.3.1\n",
      "  Downloading pyparsing-3.0.9-py3-none-any.whl (98 kB)\n",
      "\u001b[2K     \u001b[90m━━━━━━━━━━━━━━━━━━━━━━━━━━━━━━━━━━━━━━━━\u001b[0m \u001b[32m98.3/98.3 kB\u001b[0m \u001b[31m7.8 MB/s\u001b[0m eta \u001b[36m0:00:00\u001b[0m\n",
      "\u001b[?25hCollecting fonttools>=4.22.0\n",
      "  Downloading fonttools-4.39.3-py3-none-any.whl (1.0 MB)\n",
      "\u001b[2K     \u001b[90m━━━━━━━━━━━━━━━━━━━━━━━━━━━━━━━━━━━━━━━━\u001b[0m \u001b[32m1.0/1.0 MB\u001b[0m \u001b[31m9.5 MB/s\u001b[0m eta \u001b[36m0:00:00\u001b[0mta \u001b[36m0:00:01\u001b[0m\n",
      "\u001b[?25hCollecting contourpy>=1.0.1\n",
      "  Downloading contourpy-1.0.7-cp39-cp39-macosx_11_0_arm64.whl (229 kB)\n",
      "\u001b[2K     \u001b[90m━━━━━━━━━━━━━━━━━━━━━━━━━━━━━━━━━━━━━━━\u001b[0m \u001b[32m229.9/229.9 kB\u001b[0m \u001b[31m7.6 MB/s\u001b[0m eta \u001b[36m0:00:00\u001b[0m\n",
      "\u001b[?25hCollecting cycler>=0.10\n",
      "  Downloading cycler-0.11.0-py3-none-any.whl (6.4 kB)\n",
      "Requirement already satisfied: fsspec in /Users/kasparbeelen/anaconda3/envs/sas-llm/lib/python3.9/site-packages (from huggingface-hub<1.0,>=0.11.0->transformers->-r requirements.txt (line 3)) (2023.4.0)\n",
      "Requirement already satisfied: zipp>=3.1.0 in /Users/kasparbeelen/anaconda3/envs/sas-llm/lib/python3.9/site-packages (from importlib-resources>=3.2.0->matplotlib->-r requirements.txt (line 8)) (3.15.0)\n",
      "Requirement already satisfied: six>=1.5 in /Users/kasparbeelen/anaconda3/envs/sas-llm/lib/python3.9/site-packages (from python-dateutil>=2.8.2->pandas->-r requirements.txt (line 7)) (1.16.0)\n",
      "Requirement already satisfied: MarkupSafe>=2.0 in /Users/kasparbeelen/anaconda3/envs/sas-llm/lib/python3.9/site-packages (from jinja2->torch->-r requirements.txt (line 4)) (2.1.2)\n",
      "Requirement already satisfied: mpmath>=0.19 in /Users/kasparbeelen/anaconda3/envs/sas-llm/lib/python3.9/site-packages (from sympy->torch->-r requirements.txt (line 4)) (1.3.0)\n",
      "Installing collected packages: pyparsing, kiwisolver, importlib-resources, fonttools, cycler, contourpy, matplotlib\n",
      "Successfully installed contourpy-1.0.7 cycler-0.11.0 fonttools-4.39.3 importlib-resources-5.12.0 kiwisolver-1.4.4 matplotlib-3.7.1 pyparsing-3.0.9\n"
     ]
    }
   ],
   "source": [
    "!pip install -r requirements.txt"
   ]
  },
  {
   "cell_type": "code",
   "execution_count": 2,
   "id": "01edb9b0",
   "metadata": {},
   "outputs": [
    {
     "name": "stdout",
     "output_type": "stream",
     "text": [
      "Archive:  animacy.zip\r\n",
      "  inflating: animacy_data/LwM-nlp-animacy-annotations-machines19thC.tsv  \r\n",
      "  inflating: animacy_data/read-me    \r\n"
     ]
    }
   ],
   "source": [
    "!unzip animacy.zip -d animacy_data"
   ]
  },
  {
   "cell_type": "code",
   "execution_count": 3,
   "id": "9eae787a",
   "metadata": {},
   "outputs": [
    {
     "name": "stdout",
     "output_type": "stream",
     "text": [
      "LICENSE            SAS-Workshop.ipynb \u001b[34manimacy_data\u001b[m\u001b[m\r\n",
      "README.md          animacy.zip\r\n"
     ]
    }
   ],
   "source": [
    "!ls"
   ]
  },
  {
   "cell_type": "markdown",
   "id": "34dd4cdf",
   "metadata": {},
   "source": [
    "## From mini to somewhat larger\n",
    "\n",
    "... but not large"
   ]
  },
  {
   "cell_type": "markdown",
   "id": "01583dcb",
   "metadata": {},
   "source": [
    "Statistical Language Model\n",
    "\n",
    "Predict and sample"
   ]
  },
  {
   "cell_type": "markdown",
   "id": "e4c1d8f8",
   "metadata": {},
   "source": [
    "### A Shakespeare language model"
   ]
  },
  {
   "cell_type": "code",
   "execution_count": 35,
   "id": "dd11e5d8",
   "metadata": {},
   "outputs": [],
   "source": [
    "import numpy as np\n",
    "import requests\n",
    "from collections import Counter\n",
    "import re\n",
    "import pandas as pd"
   ]
  },
  {
   "cell_type": "code",
   "execution_count": 152,
   "id": "c975a55f",
   "metadata": {},
   "outputs": [],
   "source": [
    "text = requests.get('https://www.gutenberg.org/cache/epub/100/pg100.txt').text.lower().strip()\n",
    "text = requests.get('https://programminghistorian.org/assets/interrogating-national-narrative-gpt/articles.txt').text.lower().strip()\n"
   ]
  },
  {
   "cell_type": "code",
   "execution_count": 153,
   "id": "62391272",
   "metadata": {},
   "outputs": [
    {
     "data": {
      "text/plain": [
       "\"uk opposition parties have agreed not to back boris johnson's demand for a general election before t\""
      ]
     },
     "execution_count": 153,
     "metadata": {},
     "output_type": "execute_result"
    }
   ],
   "source": [
    "text[:100]"
   ]
  },
  {
   "cell_type": "code",
   "execution_count": 167,
   "id": "eb8c1ecd",
   "metadata": {},
   "outputs": [],
   "source": [
    "pattern = re.compile('\\w+')\n",
    "tokens = pattern.findall(text)"
   ]
  },
  {
   "cell_type": "code",
   "execution_count": 168,
   "id": "841f0a5d",
   "metadata": {},
   "outputs": [
    {
     "name": "stdout",
     "output_type": "stream",
     "text": [
      "['uk', 'opposition', 'parties', 'have', 'agreed', 'not', 'to', 'back', 'boris', 'johnson', 's', 'demand', 'for', 'a', 'general', 'election', 'before', 'the', 'eu', 'summit', 'in', 'mid', 'october', 'labour', 'the', 'lib', 'dems', 'the', 'snp', 'and', 'plaid', 'cymru', 'say', 'they', 'will', 'vote', 'against', 'the', 'government', 'or', 'abstain', 'in', 'monday', 's', 'vote', 'on', 'whether', 'to', 'hold', 'a']\n"
     ]
    }
   ],
   "source": [
    "print(tokens[:50])"
   ]
  },
  {
   "cell_type": "code",
   "execution_count": 169,
   "id": "04a8e19a",
   "metadata": {},
   "outputs": [],
   "source": [
    "def ngrams(tokens: list,n: int=2):\n",
    "    \"\"\"\n",
    "    Arguments:\n",
    "        text\n",
    "        n\n",
    "    Returns:\n",
    "        \n",
    "    \"\"\"\n",
    "    return [' '.join(tokens[i:i+n]) for i in range(len(tokens))]\n",
    "\n",
    "bigrams = ngrams(tokens,2)"
   ]
  },
  {
   "cell_type": "code",
   "execution_count": 170,
   "id": "624c8ede",
   "metadata": {},
   "outputs": [
    {
     "data": {
      "text/plain": [
       "['uk opposition',\n",
       " 'opposition parties',\n",
       " 'parties have',\n",
       " 'have agreed',\n",
       " 'agreed not',\n",
       " 'not to',\n",
       " 'to back',\n",
       " 'back boris',\n",
       " 'boris johnson',\n",
       " 'johnson s']"
      ]
     },
     "execution_count": 170,
     "metadata": {},
     "output_type": "execute_result"
    }
   ],
   "source": [
    "bigrams[:10]"
   ]
  },
  {
   "cell_type": "code",
   "execution_count": 171,
   "id": "cf202708",
   "metadata": {},
   "outputs": [],
   "source": [
    "bigrams = Counter(bigrams)"
   ]
  },
  {
   "cell_type": "code",
   "execution_count": 172,
   "id": "76cbdc13",
   "metadata": {},
   "outputs": [],
   "source": [
    "trigrams = Counter(ngrams(tokens,3))"
   ]
  },
  {
   "cell_type": "code",
   "execution_count": 173,
   "id": "42e5f026",
   "metadata": {},
   "outputs": [
    {
     "data": {
      "text/plain": [
       "[('the prime minister', 5227),\n",
       " ('a no deal', 3301),\n",
       " ('with the eu', 2890),\n",
       " ('no deal brexit', 2392),\n",
       " ('the uk s', 2001),\n",
       " ('the european union', 1983),\n",
       " ('of the eu', 1886),\n",
       " ('leave the eu', 1811),\n",
       " ('the eu s', 1679),\n",
       " ('to leave the', 1657)]"
      ]
     },
     "execution_count": 173,
     "metadata": {},
     "output_type": "execute_result"
    }
   ],
   "source": [
    "trigrams.most_common(10)"
   ]
  },
  {
   "cell_type": "code",
   "execution_count": 174,
   "id": "3170630e",
   "metadata": {},
   "outputs": [],
   "source": [
    "tetragram = Counter(ngrams(tokens,4))"
   ]
  },
  {
   "cell_type": "code",
   "execution_count": 175,
   "id": "b57f90a1",
   "metadata": {},
   "outputs": [
    {
     "data": {
      "text/plain": [
       "[('a no deal brexit', 2133),\n",
       " ('to leave the eu', 1168),\n",
       " ('the prime minister s', 1075),\n",
       " ('the house of commons', 888),\n",
       " ('last modified on mon', 866),\n",
       " ('modified on mon 3', 860),\n",
       " ('on mon 3 feb', 860),\n",
       " ('mon 3 feb 2020', 860),\n",
       " ('the rest of the', 676),\n",
       " ('of a no deal', 634)]"
      ]
     },
     "execution_count": 175,
     "metadata": {},
     "output_type": "execute_result"
    }
   ],
   "source": [
    "tetragram.most_common(10)"
   ]
  },
  {
   "cell_type": "code",
   "execution_count": 176,
   "id": "37ee74a6",
   "metadata": {},
   "outputs": [
    {
     "data": {
      "text/plain": [
       "39922"
      ]
     },
     "execution_count": 176,
     "metadata": {},
     "output_type": "execute_result"
    }
   ],
   "source": [
    "vocabulary = set(tokens)\n",
    "len(vocabulary)"
   ]
  },
  {
   "cell_type": "code",
   "execution_count": 177,
   "id": "62c445d6",
   "metadata": {},
   "outputs": [],
   "source": [
    "#sequence = 'the duke of'\n",
    "sequence = 'a no deal'\n",
    "prob_next_word = Counter({w: tetragram[f'{sequence} {w}'] / trigrams[sequence] for w in vocabulary})"
   ]
  },
  {
   "cell_type": "code",
   "execution_count": 178,
   "id": "df091a2b",
   "metadata": {},
   "outputs": [
    {
     "data": {
      "text/plain": [
       "[('brexit', 0.64616782793093),\n",
       " ('exit', 0.07906694940926992),\n",
       " ('scenario', 0.06846410178733717),\n",
       " ('outcome', 0.028476219327476522),\n",
       " ('departure', 0.016964556195092396),\n",
       " ('and', 0.0069675855801272345),\n",
       " ('the', 0.006664647076643442),\n",
       " ('situation', 0.005755831566192063),\n",
       " ('would', 0.005755831566192063),\n",
       " ('or', 0.00545289306270827),\n",
       " ('split', 0.004847016055740685),\n",
       " ('crash', 0.004241139048773099),\n",
       " ('he', 0.004241139048773099),\n",
       " ('is', 0.003938200545289306),\n",
       " ('on', 0.003938200545289306),\n",
       " ('but', 0.0036352620418055137),\n",
       " ('in', 0.003332323538321721),\n",
       " ('it', 0.003332323538321721),\n",
       " ('divorce', 0.003332323538321721),\n",
       " ('withdrawal', 0.002726446531354135)]"
      ]
     },
     "execution_count": 178,
     "metadata": {},
     "output_type": "execute_result"
    }
   ],
   "source": [
    "prob_next_word.most_common(20)"
   ]
  },
  {
   "cell_type": "code",
   "execution_count": 179,
   "id": "fc657e4e",
   "metadata": {},
   "outputs": [],
   "source": [
    "df_prob = pd.DataFrame(list(prob_next_word.most_common(20)),columns=['token','prob'])\n",
    "df_prob.index = list(df_prob[\"token\"])"
   ]
  },
  {
   "cell_type": "code",
   "execution_count": 180,
   "id": "6113d2c0",
   "metadata": {},
   "outputs": [
    {
     "data": {
      "text/plain": [
       "<Axes: title={'center': 'probability of next word'}>"
      ]
     },
     "execution_count": 180,
     "metadata": {},
     "output_type": "execute_result"
    },
    {
     "data": {
      "image/png": "[encoded data removed]",
      "text/plain": [
       "<Figure size 432x288 with 1 Axes>"
      ]
     },
     "metadata": {
      "needs_background": "light"
     },
     "output_type": "display_data"
    }
   ],
   "source": [
    "df_prob.plot(kind='bar', title='probability of next word')"
   ]
  },
  {
   "cell_type": "code",
   "execution_count": 181,
   "id": "cabd785e",
   "metadata": {},
   "outputs": [],
   "source": [
    "words, probs = list(prob_next_word),list(prob_next_word.values())"
   ]
  },
  {
   "cell_type": "code",
   "execution_count": 182,
   "id": "e4998afc",
   "metadata": {},
   "outputs": [
    {
     "data": {
      "text/plain": [
       "'scenario'"
      ]
     },
     "execution_count": 182,
     "metadata": {},
     "output_type": "execute_result"
    }
   ],
   "source": [
    "np.random.choice(words, p=probs)"
   ]
  },
  {
   "cell_type": "code",
   "execution_count": 183,
   "id": "53e8b5ba",
   "metadata": {},
   "outputs": [
    {
     "data": {
      "text/plain": [
       "'a no deal brexit'"
      ]
     },
     "execution_count": 183,
     "metadata": {},
     "output_type": "execute_result"
    }
   ],
   "source": [
    "sequence += ' ' + np.random.choice(words, p=probs)\n",
    "sequence"
   ]
  },
  {
   "cell_type": "code",
   "execution_count": 187,
   "id": "6fec6d11",
   "metadata": {},
   "outputs": [
    {
     "name": "stdout",
     "output_type": "stream",
     "text": [
      "a no deal\n",
      "a no deal brexit the tory hardline brexiters are now zipping their lips they have concluded that boris johnson s pledge to make its agreement to any deal which included the controversial northern ireland backstop how to avoid new border checks for eu nationals to enter its territory and claim certain benefits there as swiss nationals can do in his conference speech today with what sounded like envy but it is a coherent and functioning statute book on the eu negotiations before june s summit of eu leaders the eu is always a five past midnight affairs as eurocrats wait until the end of march but mrs may decided for the second day of mr trump were leaked to a newspaper article saying they would prefer no brexit at all the longer the argument plays out the softer the brexit provided britain stays in the single market by remaining in a customs union with the eu was delighted with the agreement and the uk if some of our proposals for a fantastical heath robinson customs arrangement is because theresa may has privately vowed to thwart any attempt to do that they include import tariffs which are taxes applied only to goods traded across\n"
     ]
    }
   ],
   "source": [
    "total_sequence = 'a no deal'\n",
    "print(total_sequence)\n",
    "sequence = total_sequence\n",
    "for _ in range(200):\n",
    "    prob_next_word = Counter({w: tetragram[f'{sequence} {w}'] / trigrams[sequence] for w in vocabulary})\n",
    "    words, probs = list(prob_next_word),list(prob_next_word.values())\n",
    "    total_sequence += ' ' + np.random.choice(words, p=probs)\n",
    "    sequence = ' '.join(total_sequence.split()[-3:])\n",
    "print(total_sequence)"
   ]
  },
  {
   "cell_type": "markdown",
   "id": "02f1e991",
   "metadata": {},
   "source": [
    "## Predict the next word with gpt-2\n",
    "\n",
    "https://jamesmccaffrey.wordpress.com/2021/10/21/a-predict-next-word-example-using-hugging-face-and-gpt-2/"
   ]
  },
  {
   "cell_type": "code",
   "execution_count": 106,
   "id": "9cb34eb5",
   "metadata": {},
   "outputs": [],
   "source": [
    "import torch\n",
    "from transformers import AutoModelForCausalLM, AutoTokenizer\n",
    "\n",
    "toker = AutoTokenizer.from_pretrained(\"gpt2\")\n",
    "model = AutoModelForCausalLM.from_pretrained(\"gpt2\")"
   ]
  },
  {
   "cell_type": "code",
   "execution_count": 107,
   "id": "71116eee",
   "metadata": {},
   "outputs": [],
   "source": []
  },
  {
   "cell_type": "code",
   "execution_count": 188,
   "id": "db19b75a",
   "metadata": {},
   "outputs": [],
   "source": [
    "seq = \"A no deal\"\n",
    "\n",
    "\n",
    "inpts = toker(seq, return_tensors=\"pt\")"
   ]
  },
  {
   "cell_type": "code",
   "execution_count": 189,
   "id": "5f3b8923",
   "metadata": {},
   "outputs": [
    {
     "data": {
      "text/plain": [
       "{'input_ids': tensor([[  32,  645, 1730]]), 'attention_mask': tensor([[1, 1, 1]])}"
      ]
     },
     "execution_count": 189,
     "metadata": {},
     "output_type": "execute_result"
    }
   ],
   "source": [
    "inpts"
   ]
  },
  {
   "cell_type": "code",
   "execution_count": 190,
   "id": "e174d7f6",
   "metadata": {},
   "outputs": [],
   "source": [
    "with torch.no_grad():\n",
    "    logits = model(**inpts).logits[:, -1, :]"
   ]
  },
  {
   "cell_type": "code",
   "execution_count": 191,
   "id": "2feb70d3",
   "metadata": {},
   "outputs": [
    {
     "data": {
      "text/plain": [
       "torch.Size([1, 50257])"
      ]
     },
     "execution_count": 191,
     "metadata": {},
     "output_type": "execute_result"
    }
   ],
   "source": [
    "logits.shape"
   ]
  },
  {
   "cell_type": "code",
   "execution_count": 192,
   "id": "ab7a688e",
   "metadata": {},
   "outputs": [],
   "source": [
    "import torch.nn.functional as F\n",
    "probabilities = F.softmax(logits, dim=-1)"
   ]
  },
  {
   "cell_type": "code",
   "execution_count": 193,
   "id": "d5817bbb",
   "metadata": {},
   "outputs": [
    {
     "data": {
      "text/plain": [
       "tensor([[9.0731e-03, 3.7448e-03, 1.1571e-05,  ..., 5.9400e-08, 6.4343e-08,\n",
       "         2.9878e-04]])"
      ]
     },
     "execution_count": 193,
     "metadata": {},
     "output_type": "execute_result"
    }
   ],
   "source": [
    "probabilities"
   ]
  },
  {
   "cell_type": "code",
   "execution_count": 194,
   "id": "63aa236c",
   "metadata": {},
   "outputs": [
    {
     "name": "stdout",
     "output_type": "stream",
     "text": [
      "\n",
      "Predicted token ID of next word: \n",
      "13\n"
     ]
    }
   ],
   "source": [
    "pred_id = torch.argmax(logits).item()\n",
    "print(\"\\nPredicted token ID of next word: \")\n",
    "print(pred_id)\n",
    "\n",
    "pred_word = toker.decode(pred_id)"
   ]
  },
  {
   "cell_type": "code",
   "execution_count": 195,
   "id": "06f94417",
   "metadata": {},
   "outputs": [
    {
     "name": "stdout",
     "output_type": "stream",
     "text": [
      ".\n"
     ]
    }
   ],
   "source": [
    "print(pred_word)"
   ]
  },
  {
   "cell_type": "markdown",
   "id": "25bb7969",
   "metadata": {},
   "source": [
    "## Text Generation"
   ]
  },
  {
   "cell_type": "code",
   "execution_count": 48,
   "id": "99a1b7f5",
   "metadata": {},
   "outputs": [],
   "source": [
    "#https://huggingface.co/blog/how-to-generate"
   ]
  },
  {
   "cell_type": "code",
   "execution_count": 196,
   "id": "fa213409",
   "metadata": {},
   "outputs": [],
   "source": [
    "sequence = 'the duke of'\n",
    "sequence = 'A no deal Brexit'"
   ]
  },
  {
   "cell_type": "code",
   "execution_count": 197,
   "id": "1c5e3e93",
   "metadata": {},
   "outputs": [
    {
     "name": "stderr",
     "output_type": "stream",
     "text": [
      "/Users/kasparbeelen/anaconda3/envs/sas-llm/lib/python3.9/site-packages/transformers/generation/utils.py:1219: UserWarning: You have modified the pretrained model configuration to control generation. This is a deprecated strategy to control generation and will be removed soon, in a future version. Please use a generation configuration file (see https://huggingface.co/docs/transformers/main_classes/text_generation)\n",
      "  warnings.warn(\n",
      "Setting `pad_token_id` to `eos_token_id`:50256 for open-end generation.\n"
     ]
    },
    {
     "data": {
      "text/plain": [
       "[{'generated_text': \"A no deal Brexit would require further concessions on the EU's terms. In other words, UK citizens would not be given a European passport.\\n\\n\"},\n",
       " {'generated_text': \"A no deal Brexit would not create a 'factory for Brexit', as the EU chief European negotiator has said. It would open the door for negotiations\"},\n",
       " {'generated_text': 'A no deal Brexit could threaten growth of up to 1% for many years.\\n\\nIn an analysis of the report which the government has given to'}]"
      ]
     },
     "execution_count": 197,
     "metadata": {},
     "output_type": "execute_result"
    }
   ],
   "source": [
    "from transformers import pipeline\n",
    "generator = pipeline('text-generation', model = 'gpt2')\n",
    "generator(sequence, max_length = 30, num_return_sequences=3)"
   ]
  },
  {
   "cell_type": "code",
   "execution_count": 301,
   "id": "29a1970e",
   "metadata": {},
   "outputs": [],
   "source": [
    "#help(GPT2LMHeadModel)"
   ]
  },
  {
   "cell_type": "code",
   "execution_count": 199,
   "id": "f1f5c7e4",
   "metadata": {},
   "outputs": [],
   "source": [
    "from transformers import GPT2LMHeadModel, GPT2Tokenizer, GPT2Model\n",
    "\n",
    "\n",
    "tokenizer = GPT2Tokenizer.from_pretrained(\"gpt2\")\n",
    "\n",
    "# add the EOS token as PAD token to avoid warnings\n",
    "model = GPT2LMHeadModel.from_pretrained(\"gpt2\", pad_token_id=tokenizer.eos_token_id)"
   ]
  },
  {
   "cell_type": "code",
   "execution_count": 200,
   "id": "fa9ee56f",
   "metadata": {},
   "outputs": [],
   "source": [
    "model2 = GPT2Model.from_pretrained(\"gpt2\", pad_token_id=tokenizer.eos_token_id)"
   ]
  },
  {
   "cell_type": "code",
   "execution_count": 201,
   "id": "0a8b72a7",
   "metadata": {},
   "outputs": [],
   "source": [
    "input_ids = tokenizer.encode(sequence, return_tensors='pt')\n"
   ]
  },
  {
   "cell_type": "code",
   "execution_count": 202,
   "id": "31900704",
   "metadata": {},
   "outputs": [
    {
     "data": {
      "text/plain": [
       "tensor([[   32,   645,  1730, 11435]])"
      ]
     },
     "execution_count": 202,
     "metadata": {},
     "output_type": "execute_result"
    }
   ],
   "source": [
    "input_ids"
   ]
  },
  {
   "cell_type": "code",
   "execution_count": null,
   "id": "e66c0fca",
   "metadata": {},
   "outputs": [],
   "source": []
  },
  {
   "cell_type": "code",
   "execution_count": 203,
   "id": "9c62559a",
   "metadata": {},
   "outputs": [],
   "source": [
    "predictions = model(**tokenizer(sequence, return_tensors='pt'))"
   ]
  },
  {
   "cell_type": "code",
   "execution_count": 204,
   "id": "9659afbe",
   "metadata": {},
   "outputs": [
    {
     "data": {
      "text/plain": [
       "torch.Size([1, 4, 50257])"
      ]
     },
     "execution_count": 204,
     "metadata": {},
     "output_type": "execute_result"
    }
   ],
   "source": [
    "predictions.logits.shape"
   ]
  },
  {
   "cell_type": "code",
   "execution_count": 205,
   "id": "09f19573",
   "metadata": {},
   "outputs": [
    {
     "data": {
      "text/plain": [
       "' would'"
      ]
     },
     "execution_count": 205,
     "metadata": {},
     "output_type": "execute_result"
    }
   ],
   "source": [
    "tokenizer.decode(np.argmax(predictions.logits[0,-1,:].detach().numpy()))"
   ]
  },
  {
   "cell_type": "code",
   "execution_count": 206,
   "id": "43de695f",
   "metadata": {},
   "outputs": [
    {
     "name": "stdout",
     "output_type": "stream",
     "text": [
      "Output:\n",
      "----------------------------------------------------------------------------------------------------\n",
      "A no deal Brexit would be a disaster for the UK, but for the EU as a whole.\n",
      "\n",
      "\"The UK is a member of the European Union, and we are not going to be able to leave the EU without the EU's help\n"
     ]
    }
   ],
   "source": [
    "greedy_output = model.generate(input_ids, max_length=50)\n",
    "\n",
    "print(\"Output:\\n\" + 100 * '-')\n",
    "print(tokenizer.decode(greedy_output[0], skip_special_tokens=True))"
   ]
  },
  {
   "cell_type": "markdown",
   "id": "eb138a8d",
   "metadata": {},
   "source": [
    "# Fine-tuning a GPT-2 Model\n",
    "\n",
    "https://colab.research.google.com/drive/13dZVYEOMhXhkXWfvSMVM1TTtUDrT6Aeh?usp=sharing"
   ]
  },
  {
   "cell_type": "code",
   "execution_count": null,
   "id": "fd135cb7",
   "metadata": {},
   "outputs": [],
   "source": [
    "from transformers import GPT2LMHeadModel, GPT2Tokenizer, GPT2Model, AutoModelForCausalLM\n",
    "import requests\n",
    "import pandas as pd\n",
    "from datasets import Dataset\n",
    "from transformers import TrainingArguments\n",
    "from transformers import Trainer"
   ]
  },
  {
   "cell_type": "code",
   "execution_count": 286,
   "id": "0c6fddea",
   "metadata": {},
   "outputs": [],
   "source": [
    "text = requests.get('https://programminghistorian.org/assets/interrogating-national-narrative-gpt/articles.txt'\n",
    "                       ).text.lower().strip().split('\\n')\n",
    "\n"
   ]
  },
  {
   "cell_type": "code",
   "execution_count": 293,
   "id": "38da8bb6",
   "metadata": {},
   "outputs": [],
   "source": [
    "df_text = pd.DataFrame(text,columns=['text'])"
   ]
  },
  {
   "cell_type": "code",
   "execution_count": 294,
   "id": "c9639f12",
   "metadata": {},
   "outputs": [],
   "source": [
    "brexit_dataset = Dataset.from_pandas(df_text)"
   ]
  },
  {
   "cell_type": "code",
   "execution_count": 290,
   "id": "c77aa571",
   "metadata": {},
   "outputs": [
    {
     "name": "stderr",
     "output_type": "stream",
     "text": [
      "Special tokens have been added in the vocabulary, make sure the associated word embeddings are fine-tuned or trained.\n"
     ]
    }
   ],
   "source": [
    "from transformers import DataCollatorForLanguageModeling\n",
    "tokenizer = GPT2Tokenizer.from_pretrained('gpt2', \n",
    "                                           truncation=True, \n",
    "                                           max_length=768, \n",
    "                                          bos_token='<|startoftext|>', \n",
    "                                          eos_token='<|endoftext|>', \n",
    "                                          pad_token='<|pad|>') #gpt2-medium\n",
    "\n",
    "data_collator = DataCollatorForLanguageModeling(tokenizer=tokenizer, mlm=False)"
   ]
  },
  {
   "cell_type": "code",
   "execution_count": 295,
   "id": "5745ebb4",
   "metadata": {},
   "outputs": [
    {
     "data": {
      "application/vnd.jupyter.widget-view+json": {
       "model_id": "",
       "version_major": 2,
       "version_minor": 0
      },
      "text/plain": [
       "Map:   0%|          | 0/130566 [00:00<?, ? examples/s]"
      ]
     },
     "metadata": {},
     "output_type": "display_data"
    },
    {
     "data": {
      "text/plain": [
       "Dataset({\n",
       "    features: ['input_ids', 'attention_mask'],\n",
       "    num_rows: 130566\n",
       "})"
      ]
     },
     "execution_count": 295,
     "metadata": {},
     "output_type": "execute_result"
    }
   ],
   "source": [
    "def tokenize_function(examples):\n",
    "    result = tokenizer(examples[\"text\"])\n",
    "    if tokenizer.is_fast:\n",
    "        result[\"word_ids\"] = [result.word_ids(i) for i in range(len(result[\"input_ids\"]))]\n",
    "    return result\n",
    "\n",
    "\n",
    "# Use batched=True to activate fast multithreading!\n",
    "tokenized_datasets = brexit_dataset.map(\n",
    "        tokenize_function, batched=True, remove_columns=[\"text\"]\n",
    ")\n",
    "tokenized_datasets"
   ]
  },
  {
   "cell_type": "code",
   "execution_count": 297,
   "id": "7717b31f",
   "metadata": {},
   "outputs": [
    {
     "name": "stdout",
     "output_type": "stream",
     "text": [
      "117509 13056\n"
     ]
    },
    {
     "data": {
      "text/plain": [
       "DatasetDict({\n",
       "    train: Dataset({\n",
       "        features: ['input_ids', 'attention_mask'],\n",
       "        num_rows: 117509\n",
       "    })\n",
       "    test: Dataset({\n",
       "        features: ['input_ids', 'attention_mask'],\n",
       "        num_rows: 13056\n",
       "    })\n",
       "})"
      ]
     },
     "execution_count": 297,
     "metadata": {},
     "output_type": "execute_result"
    }
   ],
   "source": [
    "train_size = int(len(tokenized_datasets) *.9)\n",
    "test_size = int(len(tokenized_datasets) *.1)\n",
    "print(train_size,test_size)\n",
    "dataset = tokenized_datasets.train_test_split(\n",
    "    train_size=train_size, test_size=test_size, seed=42\n",
    ")\n",
    "dataset"
   ]
  },
  {
   "cell_type": "code",
   "execution_count": 298,
   "id": "f1279219",
   "metadata": {},
   "outputs": [],
   "source": [
    "from transformers import TrainingArguments\n",
    "\n",
    "#training_args = TrainingArguments(\"test-trainer\")\n",
    "model_checkpoint = 'gpt-2'\n",
    "batch_size = 64\n",
    "# Show the training loss with every epoch\n",
    "logging_steps = len(dataset[\"train\"]) // batch_size\n",
    "model_name = model_checkpoint.split(\"/\")[-1]\n",
    "\n",
    "training_args = TrainingArguments(\n",
    "    output_dir=f\"gpt-finetuned\",\n",
    "    overwrite_output_dir=True,\n",
    "    evaluation_strategy=\"epoch\",\n",
    "    learning_rate=2e-5,\n",
    "    weight_decay=0.01,\n",
    "    per_device_train_batch_size=batch_size,\n",
    "    per_device_eval_batch_size=batch_size,\n",
    "    #push_to_hub=True,\n",
    "    #fp16=True,\n",
    "    logging_steps=logging_steps,\n",
    ")"
   ]
  },
  {
   "cell_type": "code",
   "execution_count": null,
   "id": "ea29c1ce",
   "metadata": {},
   "outputs": [],
   "source": [
    "model = AutoModelForCausalLM.from_pretrained(\"gpt2\")"
   ]
  },
  {
   "cell_type": "code",
   "execution_count": 299,
   "id": "c1388989",
   "metadata": {},
   "outputs": [],
   "source": [
    "from transformers import Trainer\n",
    "\n",
    "trainer = Trainer(\n",
    "    model=model,\n",
    "    args=training_args,\n",
    "    train_dataset=dataset[\"train\"],\n",
    "    eval_dataset=dataset[\"test\"],\n",
    "    data_collator=data_collator,\n",
    "    tokenizer=tokenizer,\n",
    ")"
   ]
  },
  {
   "cell_type": "code",
   "execution_count": 300,
   "id": "9e709914",
   "metadata": {},
   "outputs": [
    {
     "name": "stderr",
     "output_type": "stream",
     "text": [
      "/Users/kasparbeelen/anaconda3/envs/sas-llm/lib/python3.9/site-packages/transformers/optimization.py:391: FutureWarning: This implementation of AdamW is deprecated and will be removed in a future version. Use the PyTorch implementation torch.optim.AdamW instead, or set `no_deprecation_warning=True` to disable this warning\n",
      "  warnings.warn(\n"
     ]
    },
    {
     "data": {
      "text/html": [
       "\n",
       "    <div>\n",
       "      \n",
       "      <progress value='4' max='5511' style='width:300px; height:20px; vertical-align: middle;'></progress>\n",
       "      [   4/5511 00:36 < 27:54:06, 0.05 it/s, Epoch 0.00/3]\n",
       "    </div>\n",
       "    <table border=\"1\" class=\"dataframe\">\n",
       "  <thead>\n",
       " <tr style=\"text-align: left;\">\n",
       "      <th>Epoch</th>\n",
       "      <th>Training Loss</th>\n",
       "      <th>Validation Loss</th>\n",
       "    </tr>\n",
       "  </thead>\n",
       "  <tbody>\n",
       "  </tbody>\n",
       "</table><p>"
      ],
      "text/plain": [
       "<IPython.core.display.HTML object>"
      ]
     },
     "metadata": {},
     "output_type": "display_data"
    },
    {
     "ename": "KeyboardInterrupt",
     "evalue": "",
     "output_type": "error",
     "traceback": [
      "\u001b[0;31m---------------------------------------------------------------------------\u001b[0m",
      "\u001b[0;31mKeyboardInterrupt\u001b[0m                         Traceback (most recent call last)",
      "Input \u001b[0;32mIn [300]\u001b[0m, in \u001b[0;36m<cell line: 1>\u001b[0;34m()\u001b[0m\n\u001b[0;32m----> 1\u001b[0m \u001b[43mtrainer\u001b[49m\u001b[38;5;241;43m.\u001b[39;49m\u001b[43mtrain\u001b[49m\u001b[43m(\u001b[49m\u001b[43m)\u001b[49m\n",
      "File \u001b[0;32m~/anaconda3/envs/sas-llm/lib/python3.9/site-packages/transformers/trainer.py:1662\u001b[0m, in \u001b[0;36mTrainer.train\u001b[0;34m(self, resume_from_checkpoint, trial, ignore_keys_for_eval, **kwargs)\u001b[0m\n\u001b[1;32m   1657\u001b[0m     \u001b[38;5;28mself\u001b[39m\u001b[38;5;241m.\u001b[39mmodel_wrapped \u001b[38;5;241m=\u001b[39m \u001b[38;5;28mself\u001b[39m\u001b[38;5;241m.\u001b[39mmodel\n\u001b[1;32m   1659\u001b[0m inner_training_loop \u001b[38;5;241m=\u001b[39m find_executable_batch_size(\n\u001b[1;32m   1660\u001b[0m     \u001b[38;5;28mself\u001b[39m\u001b[38;5;241m.\u001b[39m_inner_training_loop, \u001b[38;5;28mself\u001b[39m\u001b[38;5;241m.\u001b[39m_train_batch_size, args\u001b[38;5;241m.\u001b[39mauto_find_batch_size\n\u001b[1;32m   1661\u001b[0m )\n\u001b[0;32m-> 1662\u001b[0m \u001b[38;5;28;01mreturn\u001b[39;00m \u001b[43minner_training_loop\u001b[49m\u001b[43m(\u001b[49m\n\u001b[1;32m   1663\u001b[0m \u001b[43m    \u001b[49m\u001b[43margs\u001b[49m\u001b[38;5;241;43m=\u001b[39;49m\u001b[43margs\u001b[49m\u001b[43m,\u001b[49m\n\u001b[1;32m   1664\u001b[0m \u001b[43m    \u001b[49m\u001b[43mresume_from_checkpoint\u001b[49m\u001b[38;5;241;43m=\u001b[39;49m\u001b[43mresume_from_checkpoint\u001b[49m\u001b[43m,\u001b[49m\n\u001b[1;32m   1665\u001b[0m \u001b[43m    \u001b[49m\u001b[43mtrial\u001b[49m\u001b[38;5;241;43m=\u001b[39;49m\u001b[43mtrial\u001b[49m\u001b[43m,\u001b[49m\n\u001b[1;32m   1666\u001b[0m \u001b[43m    \u001b[49m\u001b[43mignore_keys_for_eval\u001b[49m\u001b[38;5;241;43m=\u001b[39;49m\u001b[43mignore_keys_for_eval\u001b[49m\u001b[43m,\u001b[49m\n\u001b[1;32m   1667\u001b[0m \u001b[43m\u001b[49m\u001b[43m)\u001b[49m\n",
      "File \u001b[0;32m~/anaconda3/envs/sas-llm/lib/python3.9/site-packages/transformers/trainer.py:1929\u001b[0m, in \u001b[0;36mTrainer._inner_training_loop\u001b[0;34m(self, batch_size, args, resume_from_checkpoint, trial, ignore_keys_for_eval)\u001b[0m\n\u001b[1;32m   1927\u001b[0m         tr_loss_step \u001b[38;5;241m=\u001b[39m \u001b[38;5;28mself\u001b[39m\u001b[38;5;241m.\u001b[39mtraining_step(model, inputs)\n\u001b[1;32m   1928\u001b[0m \u001b[38;5;28;01melse\u001b[39;00m:\n\u001b[0;32m-> 1929\u001b[0m     tr_loss_step \u001b[38;5;241m=\u001b[39m \u001b[38;5;28;43mself\u001b[39;49m\u001b[38;5;241;43m.\u001b[39;49m\u001b[43mtraining_step\u001b[49m\u001b[43m(\u001b[49m\u001b[43mmodel\u001b[49m\u001b[43m,\u001b[49m\u001b[43m \u001b[49m\u001b[43minputs\u001b[49m\u001b[43m)\u001b[49m\n\u001b[1;32m   1931\u001b[0m \u001b[38;5;28;01mif\u001b[39;00m (\n\u001b[1;32m   1932\u001b[0m     args\u001b[38;5;241m.\u001b[39mlogging_nan_inf_filter\n\u001b[1;32m   1933\u001b[0m     \u001b[38;5;129;01mand\u001b[39;00m \u001b[38;5;129;01mnot\u001b[39;00m is_torch_tpu_available()\n\u001b[1;32m   1934\u001b[0m     \u001b[38;5;129;01mand\u001b[39;00m (torch\u001b[38;5;241m.\u001b[39misnan(tr_loss_step) \u001b[38;5;129;01mor\u001b[39;00m torch\u001b[38;5;241m.\u001b[39misinf(tr_loss_step))\n\u001b[1;32m   1935\u001b[0m ):\n\u001b[1;32m   1936\u001b[0m     \u001b[38;5;66;03m# if loss is nan or inf simply add the average of previous logged losses\u001b[39;00m\n\u001b[1;32m   1937\u001b[0m     tr_loss \u001b[38;5;241m+\u001b[39m\u001b[38;5;241m=\u001b[39m tr_loss \u001b[38;5;241m/\u001b[39m (\u001b[38;5;241m1\u001b[39m \u001b[38;5;241m+\u001b[39m \u001b[38;5;28mself\u001b[39m\u001b[38;5;241m.\u001b[39mstate\u001b[38;5;241m.\u001b[39mglobal_step \u001b[38;5;241m-\u001b[39m \u001b[38;5;28mself\u001b[39m\u001b[38;5;241m.\u001b[39m_globalstep_last_logged)\n",
      "File \u001b[0;32m~/anaconda3/envs/sas-llm/lib/python3.9/site-packages/transformers/trainer.py:2717\u001b[0m, in \u001b[0;36mTrainer.training_step\u001b[0;34m(self, model, inputs)\u001b[0m\n\u001b[1;32m   2715\u001b[0m     loss \u001b[38;5;241m=\u001b[39m \u001b[38;5;28mself\u001b[39m\u001b[38;5;241m.\u001b[39mdeepspeed\u001b[38;5;241m.\u001b[39mbackward(loss)\n\u001b[1;32m   2716\u001b[0m \u001b[38;5;28;01melse\u001b[39;00m:\n\u001b[0;32m-> 2717\u001b[0m     \u001b[43mloss\u001b[49m\u001b[38;5;241;43m.\u001b[39;49m\u001b[43mbackward\u001b[49m\u001b[43m(\u001b[49m\u001b[43m)\u001b[49m\n\u001b[1;32m   2719\u001b[0m \u001b[38;5;28;01mreturn\u001b[39;00m loss\u001b[38;5;241m.\u001b[39mdetach()\n",
      "File \u001b[0;32m~/anaconda3/envs/sas-llm/lib/python3.9/site-packages/torch/_tensor.py:487\u001b[0m, in \u001b[0;36mTensor.backward\u001b[0;34m(self, gradient, retain_graph, create_graph, inputs)\u001b[0m\n\u001b[1;32m    477\u001b[0m \u001b[38;5;28;01mif\u001b[39;00m has_torch_function_unary(\u001b[38;5;28mself\u001b[39m):\n\u001b[1;32m    478\u001b[0m     \u001b[38;5;28;01mreturn\u001b[39;00m handle_torch_function(\n\u001b[1;32m    479\u001b[0m         Tensor\u001b[38;5;241m.\u001b[39mbackward,\n\u001b[1;32m    480\u001b[0m         (\u001b[38;5;28mself\u001b[39m,),\n\u001b[0;32m   (...)\u001b[0m\n\u001b[1;32m    485\u001b[0m         inputs\u001b[38;5;241m=\u001b[39minputs,\n\u001b[1;32m    486\u001b[0m     )\n\u001b[0;32m--> 487\u001b[0m \u001b[43mtorch\u001b[49m\u001b[38;5;241;43m.\u001b[39;49m\u001b[43mautograd\u001b[49m\u001b[38;5;241;43m.\u001b[39;49m\u001b[43mbackward\u001b[49m\u001b[43m(\u001b[49m\n\u001b[1;32m    488\u001b[0m \u001b[43m    \u001b[49m\u001b[38;5;28;43mself\u001b[39;49m\u001b[43m,\u001b[49m\u001b[43m \u001b[49m\u001b[43mgradient\u001b[49m\u001b[43m,\u001b[49m\u001b[43m \u001b[49m\u001b[43mretain_graph\u001b[49m\u001b[43m,\u001b[49m\u001b[43m \u001b[49m\u001b[43mcreate_graph\u001b[49m\u001b[43m,\u001b[49m\u001b[43m \u001b[49m\u001b[43minputs\u001b[49m\u001b[38;5;241;43m=\u001b[39;49m\u001b[43minputs\u001b[49m\n\u001b[1;32m    489\u001b[0m \u001b[43m\u001b[49m\u001b[43m)\u001b[49m\n",
      "File \u001b[0;32m~/anaconda3/envs/sas-llm/lib/python3.9/site-packages/torch/autograd/__init__.py:200\u001b[0m, in \u001b[0;36mbackward\u001b[0;34m(tensors, grad_tensors, retain_graph, create_graph, grad_variables, inputs)\u001b[0m\n\u001b[1;32m    195\u001b[0m     retain_graph \u001b[38;5;241m=\u001b[39m create_graph\n\u001b[1;32m    197\u001b[0m \u001b[38;5;66;03m# The reason we repeat same the comment below is that\u001b[39;00m\n\u001b[1;32m    198\u001b[0m \u001b[38;5;66;03m# some Python versions print out the first line of a multi-line function\u001b[39;00m\n\u001b[1;32m    199\u001b[0m \u001b[38;5;66;03m# calls in the traceback and some print out the last line\u001b[39;00m\n\u001b[0;32m--> 200\u001b[0m \u001b[43mVariable\u001b[49m\u001b[38;5;241;43m.\u001b[39;49m\u001b[43m_execution_engine\u001b[49m\u001b[38;5;241;43m.\u001b[39;49m\u001b[43mrun_backward\u001b[49m\u001b[43m(\u001b[49m\u001b[43m  \u001b[49m\u001b[38;5;66;43;03m# Calls into the C++ engine to run the backward pass\u001b[39;49;00m\n\u001b[1;32m    201\u001b[0m \u001b[43m    \u001b[49m\u001b[43mtensors\u001b[49m\u001b[43m,\u001b[49m\u001b[43m \u001b[49m\u001b[43mgrad_tensors_\u001b[49m\u001b[43m,\u001b[49m\u001b[43m \u001b[49m\u001b[43mretain_graph\u001b[49m\u001b[43m,\u001b[49m\u001b[43m \u001b[49m\u001b[43mcreate_graph\u001b[49m\u001b[43m,\u001b[49m\u001b[43m \u001b[49m\u001b[43minputs\u001b[49m\u001b[43m,\u001b[49m\n\u001b[1;32m    202\u001b[0m \u001b[43m    \u001b[49m\u001b[43mallow_unreachable\u001b[49m\u001b[38;5;241;43m=\u001b[39;49m\u001b[38;5;28;43;01mTrue\u001b[39;49;00m\u001b[43m,\u001b[49m\u001b[43m \u001b[49m\u001b[43maccumulate_grad\u001b[49m\u001b[38;5;241;43m=\u001b[39;49m\u001b[38;5;28;43;01mTrue\u001b[39;49;00m\u001b[43m)\u001b[49m\n",
      "\u001b[0;31mKeyboardInterrupt\u001b[0m: "
     ]
    }
   ],
   "source": [
    "trainer.train()"
   ]
  },
  {
   "cell_type": "markdown",
   "id": "30ad5721",
   "metadata": {},
   "source": [
    "# Few shot leaning"
   ]
  },
  {
   "cell_type": "code",
   "execution_count": null,
   "id": "faeed20a",
   "metadata": {},
   "outputs": [],
   "source": []
  },
  {
   "cell_type": "code",
   "execution_count": null,
   "id": "5c69602d",
   "metadata": {},
   "outputs": [],
   "source": []
  }
 ],
 "metadata": {
  "kernelspec": {
   "display_name": "sas-llm",
   "language": "python",
   "name": "sas-llm"
  },
  "language_info": {
   "codemirror_mode": {
    "name": "ipython",
    "version": 3
   },
   "file_extension": ".py",
   "mimetype": "text/x-python",
   "name": "python",
   "nbconvert_exporter": "python",
   "pygments_lexer": "ipython3",
   "version": "3.9.16"
  }
 },
 "nbformat": 4,
 "nbformat_minor": 5
}
