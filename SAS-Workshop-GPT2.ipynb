{
 "cells": [
  {
   "cell_type": "markdown",
   "id": "d50f7f68",
   "metadata": {},
   "source": [
    "# Pocking at Ever Larger Language Models\n",
    "## An introduction for (digital) humanists\n"
   ]
  },
  {
   "cell_type": "markdown",
   "id": "7dcf767d",
   "metadata": {},
   "source": [
    "- Transition from N-Gram to Neural Language Models\n",
    "\n",
    "- Don't count, predict (when training a language models)\n",
    "\n",
    "- What are parameters\n",
    "\n",
    "- Terminology LM pre-training and fine-tuning\n",
    "    - Why it works better\n",
    "\n",
    "PLM variants:\n",
    "- Causal/Autoregressive language models (GPT series)\n",
    "- Masked Language Models (BERT and family)\n",
    "\n",
    "Bias in Language Models"
   ]
  },
  {
   "cell_type": "markdown",
   "id": "25bb7969",
   "metadata": {},
   "source": [
    "## Text Generation with GPT-2\n",
    "\n",
    "Materials are taken from this [Blog Post](https://huggingface.co/blog/how-to-generate).\n",
    "\n",
    "We discuss how you can generate text with GPT-2 and discuss the effects of Language Model Fine-tuning."
   ]
  },
  {
   "cell_type": "code",
   "execution_count": 48,
   "id": "99a1b7f5",
   "metadata": {},
   "outputs": [],
   "source": []
  },
  {
   "cell_type": "code",
   "execution_count": 12,
   "id": "fa213409",
   "metadata": {},
   "outputs": [],
   "source": [
    "#sequence = 'the duke of'\n",
    "#sequence = 'A no deal Brexit'\n",
    "sequence = 'The UK is'"
   ]
  },
  {
   "cell_type": "code",
   "execution_count": 13,
   "id": "1c5e3e93",
   "metadata": {},
   "outputs": [
    {
     "name": "stderr",
     "output_type": "stream",
     "text": [
      "Setting `pad_token_id` to `eos_token_id`:50256 for open-end generation.\n"
     ]
    },
    {
     "data": {
      "text/plain": [
       "[{'generated_text': \"The UK is set to spend £7b on the NHS in 2010.\\n\\nThe Government's spending on the NHS will probably have to increase over\"},\n",
       " {'generated_text': 'The UK is a major player in helping the UN and other international agencies to reach consensus around global greenhouse gas emissions reductions. However, while it is in'},\n",
       " {'generated_text': 'The UK is currently in a tight-knit network of nations, with the EU having the biggest role in all.\"\\n\\n\"It would be foolish'}]"
      ]
     },
     "execution_count": 13,
     "metadata": {},
     "output_type": "execute_result"
    }
   ],
   "source": [
    "from transformers import pipeline\n",
    "generator = pipeline('text-generation', model = 'gpt2')\n",
    "generator(sequence, max_length = 30, num_return_sequences=3)"
   ]
  },
  {
   "cell_type": "code",
   "execution_count": 14,
   "id": "a5e47513",
   "metadata": {},
   "outputs": [
    {
     "name": "stderr",
     "output_type": "stream",
     "text": [
      "Setting `pad_token_id` to `eos_token_id`:50256 for open-end generation.\n"
     ]
    },
    {
     "data": {
      "text/plain": [
       "[{'generated_text': 'The UK is due to return to the European Union on 1 October.\\n\\nAnd, it will be up to the EU to decide exactly what a'},\n",
       " {'generated_text': 'The UK is on course for a major trade deal with the EU after Brexit but it would come at the cost of billions more pounds of investment by the'},\n",
       " {'generated_text': 'The UK is in breach of the European convention on human rights and the European Convention on Human Rights, and the result is that there is severe and serious'}]"
      ]
     },
     "execution_count": 14,
     "metadata": {},
     "output_type": "execute_result"
    }
   ],
   "source": [
    "from transformers import pipeline\n",
    "generator = pipeline('text-generation', model = 'gpt-brexit',tokenizer='gpt2')\n",
    "generator(sequence, max_length = 30, num_return_sequences=3)"
   ]
  },
  {
   "cell_type": "code",
   "execution_count": 301,
   "id": "29a1970e",
   "metadata": {},
   "outputs": [],
   "source": [
    "#help(GPT2LMHeadModel)"
   ]
  },
  {
   "cell_type": "code",
   "execution_count": 199,
   "id": "f1f5c7e4",
   "metadata": {},
   "outputs": [],
   "source": [
    "from transformers import GPT2LMHeadModel, GPT2Tokenizer, GPT2Model\n",
    "\n",
    "\n",
    "tokenizer = GPT2Tokenizer.from_pretrained(\"gpt2\")\n",
    "\n",
    "# add the EOS token as PAD token to avoid warnings\n",
    "model = GPT2LMHeadModel.from_pretrained(\"gpt2\", pad_token_id=tokenizer.eos_token_id)"
   ]
  },
  {
   "cell_type": "code",
   "execution_count": 200,
   "id": "fa9ee56f",
   "metadata": {},
   "outputs": [],
   "source": [
    "model2 = GPT2Model.from_pretrained(\"gpt2\", pad_token_id=tokenizer.eos_token_id)"
   ]
  },
  {
   "cell_type": "code",
   "execution_count": 201,
   "id": "0a8b72a7",
   "metadata": {},
   "outputs": [],
   "source": [
    "input_ids = tokenizer.encode(sequence, return_tensors='pt')\n"
   ]
  },
  {
   "cell_type": "code",
   "execution_count": 202,
   "id": "31900704",
   "metadata": {},
   "outputs": [
    {
     "data": {
      "text/plain": [
       "tensor([[   32,   645,  1730, 11435]])"
      ]
     },
     "execution_count": 202,
     "metadata": {},
     "output_type": "execute_result"
    }
   ],
   "source": [
    "input_ids"
   ]
  },
  {
   "cell_type": "code",
   "execution_count": null,
   "id": "e66c0fca",
   "metadata": {},
   "outputs": [],
   "source": []
  },
  {
   "cell_type": "code",
   "execution_count": 203,
   "id": "9c62559a",
   "metadata": {},
   "outputs": [],
   "source": [
    "predictions = model(**tokenizer(sequence, return_tensors='pt'))"
   ]
  },
  {
   "cell_type": "code",
   "execution_count": 204,
   "id": "9659afbe",
   "metadata": {},
   "outputs": [
    {
     "data": {
      "text/plain": [
       "torch.Size([1, 4, 50257])"
      ]
     },
     "execution_count": 204,
     "metadata": {},
     "output_type": "execute_result"
    }
   ],
   "source": [
    "predictions.logits.shape"
   ]
  },
  {
   "cell_type": "code",
   "execution_count": 205,
   "id": "09f19573",
   "metadata": {},
   "outputs": [
    {
     "data": {
      "text/plain": [
       "' would'"
      ]
     },
     "execution_count": 205,
     "metadata": {},
     "output_type": "execute_result"
    }
   ],
   "source": [
    "tokenizer.decode(np.argmax(predictions.logits[0,-1,:].detach().numpy()))"
   ]
  },
  {
   "cell_type": "code",
   "execution_count": 206,
   "id": "43de695f",
   "metadata": {},
   "outputs": [
    {
     "name": "stdout",
     "output_type": "stream",
     "text": [
      "Output:\n",
      "----------------------------------------------------------------------------------------------------\n",
      "A no deal Brexit would be a disaster for the UK, but for the EU as a whole.\n",
      "\n",
      "\"The UK is a member of the European Union, and we are not going to be able to leave the EU without the EU's help\n"
     ]
    }
   ],
   "source": [
    "greedy_output = model.generate(input_ids, max_length=50)\n",
    "\n",
    "print(\"Output:\\n\" + 100 * '-')\n",
    "print(tokenizer.decode(greedy_output[0], skip_special_tokens=True))"
   ]
  },
  {
   "cell_type": "markdown",
   "id": "30ad5721",
   "metadata": {},
   "source": [
    "# Few shot leaning"
   ]
  },
  {
   "cell_type": "code",
   "execution_count": null,
   "id": "faeed20a",
   "metadata": {},
   "outputs": [],
   "source": []
  },
  {
   "cell_type": "code",
   "execution_count": null,
   "id": "5c69602d",
   "metadata": {},
   "outputs": [],
   "source": []
  }
 ],
 "metadata": {
  "kernelspec": {
   "display_name": "sas-llm",
   "language": "python",
   "name": "sas-llm"
  },
  "language_info": {
   "codemirror_mode": {
    "name": "ipython",
    "version": 3
   },
   "file_extension": ".py",
   "mimetype": "text/x-python",
   "name": "python",
   "nbconvert_exporter": "python",
   "pygments_lexer": "ipython3",
   "version": "3.9.16"
  }
 },
 "nbformat": 4,
 "nbformat_minor": 5
}
