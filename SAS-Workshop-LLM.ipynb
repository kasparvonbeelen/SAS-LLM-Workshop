{
 "cells": [
  {
   "cell_type": "markdown",
   "id": "7707f428",
   "metadata": {},
   "source": [
    "# Scaling UP: Large Language Models\n",
    "\n",
    "- PLM vs LLM: What does \"Large\" mean?\n",
    "- Are LLMs qualitatively different than PLMs\n",
    "- Different capabilities\n",
    "    - Traditionally: learn from examples\n",
    "        - adapt a model to a set of examples (training/fine-tuning)\n",
    "    - No adaptation needed, prompting instead if traing\n",
    "        - In context learning\n",
    "        - Zero and few-shot \n",
    "        - Chain of thought reasoning\n",
    "- \"Emerging\" Capabilities\n",
    "    - Ideological dimensions behind the AI discourse\n",
    "\n",
    "- Programmatic Access to LLMs\n",
    "\n",
    "- Using LLMs: from checkpoints or via API\n",
    "    - open and closed, [paper](https://www.nature.com/articles/d41586-023-01295-4)\n",
    "        - risks\n",
    "    - hard to say which will turn out to b\n"
   ]
  },
  {
   "cell_type": "code",
   "execution_count": null,
   "id": "9b1fc50d",
   "metadata": {},
   "outputs": [],
   "source": [
    "# A Critique of LLMs\n",
    "Stochastic Parrots."
   ]
  },
  {
   "cell_type": "markdown",
   "id": "2858fb30",
   "metadata": {},
   "source": [
    "# Checkpoint: Hugging Face and BLOOM"
   ]
  },
  {
   "cell_type": "markdown",
   "id": "639632a9",
   "metadata": {},
   "source": [
    "Introduction to BLOOM. Based on Stanford Course\n",
    "https://colab.research.google.com/drive/13gyUcsX7KtkwSJ1PfW8MrlXQePVD_jFP"
   ]
  },
  {
   "cell_type": "code",
   "execution_count": null,
   "id": "21d58f37",
   "metadata": {},
   "outputs": [],
   "source": [
    "!pip install transformers torch datasets  accelerate bitsandbytes"
   ]
  },
  {
   "cell_type": "code",
   "execution_count": null,
   "id": "3419a910",
   "metadata": {},
   "outputs": [],
   "source": [
    "from transformers import AutoTokenizer, AutoModelForCausalLM\n",
    "\n",
    "device = \"cuda:0\" if torch.cuda.is_available() else \"cpu\"\n",
    "\n",
    "model_name = \"bigscience/bloom-1b7\"\n",
    "model = AutoModelForCausalLM.from_pretrained(model_name, device_map=\"auto\", load_in_8bit=True)\n",
    "\n",
    "tokenizer = AutoTokenizer.from_pretrained(model_name)"
   ]
  },
  {
   "cell_type": "code",
   "execution_count": null,
   "id": "a0801e41",
   "metadata": {},
   "outputs": [],
   "source": []
  },
  {
   "cell_type": "code",
   "execution_count": null,
   "id": "1e282bb0",
   "metadata": {},
   "outputs": [],
   "source": [
    "# Write a zero-shot prompt\n",
    "prompt = f\"\"\"Classify the following movie review as positive or negative\n",
    "\n",
    "Review: {sample_review}\n",
    "Sentiment:\"\"\"\n",
    "\n",
    "print(prompt)"
   ]
  },
  {
   "cell_type": "markdown",
   "id": "68b78a9e",
   "metadata": {},
   "source": [
    "# API: Accessing OpenAI's GPT-3"
   ]
  },
  {
   "cell_type": "markdown",
   "id": "a4984404",
   "metadata": {},
   "source": [
    "Full documentation is available [here](https://platform.openai.com/docs/api-reference/completions/create)."
   ]
  },
  {
   "cell_type": "code",
   "execution_count": null,
   "id": "7b3d039b",
   "metadata": {},
   "outputs": [],
   "source": [
    "# Hey ChatGPT how can I ask a question to\n",
    "import openai\n",
    "\n",
    "# Set up your OpenAI API credentials\n",
    "openai.api_key = 'YOUR_API_KEY'\n",
    "\n",
    "# Define the function to ask a question\n",
    "def ask_question(question):\n",
    "    prompt = f\"Question: {question}\\nAnswer:\"\n",
    "\n",
    "    # Generate a response from ChatGPT\n",
    "    response = openai.Completion.create(\n",
    "        engine='text-davinci-003', # Select the model you want to use\n",
    "        prompt=prompt,  # Your query as a prompt\n",
    "        max_tokens=50,  # Adjust the max tokens according to your needs\n",
    "        n=1, # Number of completions to generate\n",
    "        stop=None, # \n",
    "        temperature=0.7 # Regulate the LLM creativity. Lower values will produce more similar responses\n",
    "    )\n",
    "\n",
    "    # Extract and return the answer from the response\n",
    "    answer = response.choices[0].text.strip().split('\\n')[0]\n",
    "    return answer\n",
    "\n",
    "# Ask a question to ChatGPT\n",
    "question = \"What is the capital of France?\"\n",
    "answer = ask_question(question)\n",
    "print(answer)"
   ]
  },
  {
   "cell_type": "code",
   "execution_count": null,
   "id": "08ffba61",
   "metadata": {},
   "outputs": [],
   "source": []
  }
 ],
 "metadata": {
  "kernelspec": {
   "display_name": "sas-llm",
   "language": "python",
   "name": "sas-llm"
  },
  "language_info": {
   "codemirror_mode": {
    "name": "ipython",
    "version": 3
   },
   "file_extension": ".py",
   "mimetype": "text/x-python",
   "name": "python",
   "nbconvert_exporter": "python",
   "pygments_lexer": "ipython3",
   "version": "3.9.16"
  }
 },
 "nbformat": 4,
 "nbformat_minor": 5
}
