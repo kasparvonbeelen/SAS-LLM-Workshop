{
 "cells": [
  {
   "cell_type": "markdown",
   "id": "17c6df9c",
   "metadata": {},
   "source": [
    "# Poking at Ever Larger Language Models\n",
    "## An introduction for (digital) humanists\n",
    "\n",
    "### Introduction (5 minutes)\n",
    "\n"
   ]
  },
  {
   "cell_type": "markdown",
   "id": "1e3761e5",
   "metadata": {},
   "source": [
    "### Welcome!\n",
    "\n",
    "![Welcome](https://media.giphy.com/media/pNiDRNtb9yWdi/giphy.gif)"
   ]
  },
  {
   "cell_type": "markdown",
   "id": "9c2fd68e",
   "metadata": {},
   "source": [
    "## Expectation management\n",
    "- In this Taster session we hope to tickle your **curiosity** \n",
    "- Also, I am trying out some new materials (which reflect my learning process)\n",
    "> When one Teaches, Two Learn (Robert Heinlein, but actually an email footer from someone I can not remember).\n",
    "\n",
    "In other words, some patience is very appreciated ;-)"
   ]
  },
  {
   "cell_type": "markdown",
   "id": "d2d89a54",
   "metadata": {},
   "source": [
    "## \"Ever-Larger\" Language Models\n",
    "\n",
    "![meme](https://preview.redd.it/no-regrets-v0-adjz43rz5zaa1.jpg?auto=webp&s=24821dee00ea212e282ed3668a4d00ba0b686869)\n",
    "- We'll get to ChatGPT (and Large Language Models more generally) but...\n",
    "- I want to paint a wider historical pictures.\n",
    "    - Understand recent advances within the history of language models\n",
    "    - Statistical language models (N-Gram models)\n",
    "    - ~~Neural Language Models (word2vec, GloVe, ca. 2013)~~\n",
    "    - Pretrained Langauge Models (ULMFit, ELMO, BERT, GPT-2, ca. 2018)\n",
    "    - Large Language Models (GPT-3, PALM etc, ca. 2020)\n",
    "- Code and programmatic access to language models\n",
    "    - Notebooks with Python code...\n",
    "    - ...but not a taster session about Python\n",
    "- Perspective of Historian/DH researcher"
   ]
  },
  {
   "cell_type": "markdown",
   "id": "354934d9",
   "metadata": {},
   "source": [
    "### Rule No. 1: Newest ≠ Bestest!!!\n",
    "\n",
    "- Different language models have different capabilities \n",
    "- Apply Ockham's razor to model paramaters (do I really need 175 billion parameters for my research)\n",
    "- Fight Technological Amnesia! (Simple n-gram models might still be interesting for DH research)\n",
    "\n",
    "![amnesia](https://www.digitalmomblog.com/wp-content/uploads/2011/10/the-cassette-tape-and-the-pencil.jpg.webp)"
   ]
  },
  {
   "cell_type": "markdown",
   "id": "b2027c02",
   "metadata": {},
   "source": [
    "### Rule No. 2: Ask not what your ~~country~~ model can do for you - ask what you can do for your  ~~country~~ model \n",
    "\n",
    "- NLP often emphasizes generalizability (a model needs to work in many different context)\n",
    "- DH Research = the process of making technology work for your research\n",
    "- Easier to adapt simpler technologies to the specific research questions\n"
   ]
  },
  {
   "cell_type": "markdown",
   "id": "c272992d",
   "metadata": {},
   "source": [
    "### But equally...\n",
    "\n",
    "Ask not what you can do for your model - ask what your model can do for you."
   ]
  },
  {
   "cell_type": "markdown",
   "id": "dfdb298d",
   "metadata": {},
   "source": [
    "Any ideas for more rules welcome ;-)"
   ]
  },
  {
   "cell_type": "markdown",
   "id": "c4ed4c6f",
   "metadata": {},
   "source": [
    "# What's Next\n",
    "- 90s flashback, N-gram language model (15 minutes)\n",
    "    - understand the basic terminology and principles of language modelling\n",
    "- Sesame street generation of language models (5 minutes):\n",
    "    - generating text and more\n",
    "- Finally, \"Large\" Language Models (whatever time is left)"
   ]
  },
  {
   "cell_type": "markdown",
   "id": "b7cb23a1",
   "metadata": {},
   "source": [
    "# Fin."
   ]
  },
  {
   "cell_type": "code",
   "execution_count": null,
   "id": "4c362c62",
   "metadata": {},
   "outputs": [],
   "source": []
  }
 ],
 "metadata": {
  "kernelspec": {
   "display_name": "Python 3 (ipykernel)",
   "language": "python",
   "name": "python3"
  },
  "language_info": {
   "codemirror_mode": {
    "name": "ipython",
    "version": 3
   },
   "file_extension": ".py",
   "mimetype": "text/x-python",
   "name": "python",
   "nbconvert_exporter": "python",
   "pygments_lexer": "ipython3",
   "version": "3.9.16"
  }
 },
 "nbformat": 4,
 "nbformat_minor": 5
}
